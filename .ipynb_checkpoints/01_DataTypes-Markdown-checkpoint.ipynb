{
 "cells": [
  {
   "cell_type": "markdown",
   "metadata": {},
   "source": [
    "# Python Data Types and Markdown\n",
    "\n",
    "This tutorial covers the very basics of Python and Markdown.\n",
    "\n",
    "> Because this file is saved on GitHub, you should feel free to change whatever you want in this file and even try to break it. Breaking code and then trying to fix it again is a fantastic way to learn how code works—AS LONG AS you have a saved checkpoint or backup. It's always good practice to save works in progress frequently and, if you achieve a significant milestone, perhaps copy the file before going forward in case you need to reset. If you break anything in this repository, simply re-download the files that you need and start over.\n",
    "\n"
   ]
  },
  {
   "cell_type": "markdown",
   "metadata": {},
   "source": [
    "## Markdown\n",
    "\n",
    "Jupyter Notebook allows writers to declare cells as \"code\" or \"markdown.\" Markdown is very useful for commenting on code and is a common syntax for blogging. Cells default to \"code.\" To change a cell to markdown, simply click the dropdown menu at the top center that reads, \"Code,\" and change it to \"Markdown.\"\n",
    "\n",
    "With the cell now set to markdown, you can now write like most text editors. There are some codes that can change formatting, such as headers, italics, underline, etc. You can also provide hyperlinks and add images. You can browse and become familiar with markdown codes here: https://guides.github.com/pdfs/markdown-cheatsheet-online.pdf.\n",
    "\n",
    "## Python\n",
    "\n"
   ]
  },
  {
   "cell_type": "markdown",
   "metadata": {},
   "source": [
    "## Data Types\n",
    "\n",
    "Python recognizes different simple and complex data types. \n",
    "\n",
    "Starting with simple data types, we will see how Python can do math and work with \"strings,\" or text values.\n",
    "\n",
    "1. Integers\n",
    "2. Strings\n",
    "3. Floats\n",
    "\n",
    "#### Integers\n",
    "\n",
    "To run a cell, you can press Shift + Enter or press the Run button in the top menu."
   ]
  },
  {
   "cell_type": "code",
   "execution_count": 4,
   "metadata": {},
   "outputs": [
    {
     "data": {
      "text/plain": [
       "2"
      ]
     },
     "execution_count": 4,
     "metadata": {},
     "output_type": "execute_result"
    }
   ],
   "source": [
    "1 + 1"
   ]
  },
  {
   "cell_type": "markdown",
   "metadata": {},
   "source": [
    "Python can perform mathematical functions using basic notation (+, -, /, \\*, ^) as well as follows order of operations.\n",
    "\n",
    "#### Strings\n",
    "\n",
    "A string is a value between single or double quotation marks (\" \" or ' '). Python recognizes strings with these quotation marks. To include quotations marks within the string, you can either escape the quotation mark with a slash (\\\") or use single quotation marks within double and vice-versa (\"...' '...\")."
   ]
  },
  {
   "cell_type": "code",
   "execution_count": 8,
   "metadata": {},
   "outputs": [
    {
     "data": {
      "text/plain": [
       "'Concatenating Strings'"
      ]
     },
     "execution_count": 8,
     "metadata": {},
     "output_type": "execute_result"
    }
   ],
   "source": [
    "\"Concatenating\" + \" \" + \"Strings\" "
   ]
  },
  {
   "cell_type": "markdown",
   "metadata": {},
   "source": [
    "Python can also use + to concatenate string types. \"Concatenate\" is the term common in coding that refers to joining data (often strings) together. Concatenating can take two or more string types and join them together to create a longer string.\n",
    "\n",
    "#### Floats"
   ]
  },
  {
   "cell_type": "code",
   "execution_count": null,
   "metadata": {},
   "outputs": [],
   "source": [
    "0.2 + 2"
   ]
  },
  {
   "cell_type": "markdown",
   "metadata": {},
   "source": [
    "\"Floats\" refer to numerical values with decimal values. Some texts include numerical reports within them. This can cause problems when you're trying to parse \"text,\" data you think is a string, but contains numerical or float values, leading to a TypeError. \n",
    "\n",
    "We won't need to deal with floats for the most part with the libraries we will eventually be using. But, it's important to know what a \"float\" is.\n",
    "\n",
    "### Brief Note on Errors"
   ]
  },
  {
   "cell_type": "code",
   "execution_count": 5,
   "metadata": {},
   "outputs": [
    {
     "ename": "TypeError",
     "evalue": "unsupported operand type(s) for +: 'int' and 'str'",
     "output_type": "error",
     "traceback": [
      "\u001b[0;31m---------------------------------------------------------------------------\u001b[0m",
      "\u001b[0;31mTypeError\u001b[0m                                 Traceback (most recent call last)",
      "\u001b[0;32m<ipython-input-5-99735e52f5fe>\u001b[0m in \u001b[0;36m<module>\u001b[0;34m\u001b[0m\n\u001b[1;32m      1\u001b[0m \u001b[0;31m# Integers and Strings\u001b[0m\u001b[0;34m\u001b[0m\u001b[0;34m\u001b[0m\u001b[0;34m\u001b[0m\u001b[0m\n\u001b[0;32m----> 2\u001b[0;31m \u001b[0;36m1\u001b[0m \u001b[0;34m+\u001b[0m \u001b[0;34m\"1\"\u001b[0m\u001b[0;34m\u001b[0m\u001b[0;34m\u001b[0m\u001b[0m\n\u001b[0m",
      "\u001b[0;31mTypeError\u001b[0m: unsupported operand type(s) for +: 'int' and 'str'"
     ]
    }
   ],
   "source": [
    "# Integers and Strings >>> Notice, too, this comment, which is ignored when running code.\n",
    "# Put a '#' in front of text on a line to create a comment.\n",
    "1 + \"1\""
   ]
  },
  {
   "cell_type": "markdown",
   "metadata": {},
   "source": [
    "The error here, TypeError, occurs when a function fails to work with different data types. Here, \"1\" is not a numerical value. Error reports in Python can be quite confusing. For many errors, you can debug them by first looking at the very bottom of the report for the error type. \n",
    "\n",
    "\"TypeError: unsupported operand type(s) for +: 'int' and 'str'\" means that an error occurred around the plus sign operand, \"+.\" More specifically, the error occurred because \"+\" cannot join or add and integer ('int') with a string ('str').\n",
    "\n",
    "Sometimes, the report will also tell you where within the cell the error happened. The '----> 2' symbol in the left margin indicates that the error happened on the second line of the cell.\n",
    "\n",
    "Decoding error reports can be maddening. One common experience for debugging is examining each line for missing punctuation or typo. Learning how to read error reports can be very frustrating at first, but gradually gets better. Copying and pasting the error line (\"TypeError: unsupported operand type(s) for +: 'int' and 'str'\") can be a productive starting point. But, ultimately, reading errors only gets better with time and practice.\n",
    "\n",
    "## Defining Variables\n",
    "\n",
    "Python allows coders to create their own variables, which stores different value types. To create a variable, create a name, in this case \"x\", and use the equal sign (=) to assign a value to the name."
   ]
  },
  {
   "cell_type": "code",
   "execution_count": 9,
   "metadata": {},
   "outputs": [
    {
     "data": {
      "text/plain": [
       "2"
      ]
     },
     "execution_count": 9,
     "metadata": {},
     "output_type": "execute_result"
    }
   ],
   "source": [
    "x = 1\n",
    "\n",
    "1 + x"
   ]
  },
  {
   "cell_type": "code",
   "execution_count": 10,
   "metadata": {},
   "outputs": [
    {
     "data": {
      "text/plain": [
       "'concatenating words'"
      ]
     },
     "execution_count": 10,
     "metadata": {},
     "output_type": "execute_result"
    }
   ],
   "source": [
    "x = \"words\"\n",
    "\n",
    "\"concatenating\" + \" \" + x"
   ]
  },
  {
   "cell_type": "code",
   "execution_count": 11,
   "metadata": {},
   "outputs": [
    {
     "ename": "TypeError",
     "evalue": "can only concatenate str (not \"int\") to str",
     "output_type": "error",
     "traceback": [
      "\u001b[0;31m---------------------------------------------------------------------------\u001b[0m",
      "\u001b[0;31mTypeError\u001b[0m                                 Traceback (most recent call last)",
      "\u001b[0;32m<ipython-input-11-eaf7b6991020>\u001b[0m in \u001b[0;36m<module>\u001b[0;34m\u001b[0m\n\u001b[0;32m----> 1\u001b[0;31m \u001b[0mx\u001b[0m \u001b[0;34m+\u001b[0m \u001b[0;36m1\u001b[0m\u001b[0;34m\u001b[0m\u001b[0;34m\u001b[0m\u001b[0m\n\u001b[0m",
      "\u001b[0;31mTypeError\u001b[0m: can only concatenate str (not \"int\") to str"
     ]
    }
   ],
   "source": [
    "x + 1"
   ]
  },
  {
   "cell_type": "markdown",
   "metadata": {},
   "source": [
    "We get another TypeError because we overwrote \"x,\" making the integer value into a string type, and we cannot to join strings and integers.\n",
    "\n",
    "Python offers a way to change value types."
   ]
  },
  {
   "cell_type": "code",
   "execution_count": 12,
   "metadata": {},
   "outputs": [
    {
     "data": {
      "text/plain": [
       "2"
      ]
     },
     "execution_count": 12,
     "metadata": {},
     "output_type": "execute_result"
    }
   ],
   "source": [
    "x = \"1\"\n",
    "\n",
    "# 1 + x : This will also fail because x is still a string value. But,\n",
    "\n",
    "1 + int(x)"
   ]
  },
  {
   "cell_type": "markdown",
   "metadata": {},
   "source": [
    "Here, we use a Python function to change \"x\" temporally to an integer data type, which allows us to add 1 + 1. \n",
    "\n",
    "Python functions follow certain grammatical rules. That is, functions typically have a name, in the case above \"int,\" followed by parenthesis. The function int() acts on the variable \"x.\"\n",
    "\n",
    "A later notebook will cover functions in more detail, but, here, we can see how data types can be changed.\n",
    "\n",
    "## Complex Data Types\n",
    "\n",
    "There are more data types that are more complex. Although the following data types are more complex, they build off simpler types. The following types gather simpler value types into recognizable structures. There are more data types than these, but we will be focusing on the two most common types.\n",
    "\n",
    "1. Lists\n",
    "2. Dictionaries\n",
    "\n",
    "#### Lists\n",
    "\n",
    "A list is a collection of values that occur between square brackets ([ ]). As a data structure, lists provide diff erent functionlity than other data types."
   ]
  },
  {
   "cell_type": "code",
   "execution_count": 2,
   "metadata": {},
   "outputs": [
    {
     "data": {
      "text/plain": [
       "[1, 2, 3, 4]"
      ]
     },
     "execution_count": 2,
     "metadata": {},
     "output_type": "execute_result"
    }
   ],
   "source": [
    "my_list = [1, 2, 3, 4] # Each value in a list is separated by a comma.\n",
    "\n",
    "my_list"
   ]
  },
  {
   "cell_type": "markdown",
   "metadata": {},
   "source": [
    "Lists are also indexed, so I can access a single value."
   ]
  },
  {
   "cell_type": "code",
   "execution_count": 3,
   "metadata": {},
   "outputs": [
    {
     "data": {
      "text/plain": [
       "1"
      ]
     },
     "execution_count": 3,
     "metadata": {},
     "output_type": "execute_result"
    }
   ],
   "source": [
    "my_list[0]"
   ]
  },
  {
   "cell_type": "markdown",
   "metadata": {},
   "source": [
    "Notice that Python starts counting at zero. The value in the zero position of my_list is 1.\n",
    "\n",
    "#### Dictionaries\n",
    "\n",
    "A list provides a range of values (integers, strings, even lists within a list) that do not necessarily have any relation other than being in a list. A dictionary, on the other hand, is similar to a list except that it has keys and values. That is, it conveys a relationship between a \"key\" and that key's \"value.\" A dictionary is a collection of information between curly brackets { }."
   ]
  },
  {
   "cell_type": "code",
   "execution_count": 7,
   "metadata": {},
   "outputs": [
    {
     "data": {
      "text/plain": [
       "{'name': 'Bill', 'grade': 'B'}"
      ]
     },
     "execution_count": 7,
     "metadata": {},
     "output_type": "execute_result"
    }
   ],
   "source": [
    "my_dictionary = {\n",
    "    'name': 'Bill',\n",
    "    'grade': 'B'\n",
    "}\n",
    "\n",
    "my_dictionary"
   ]
  },
  {
   "cell_type": "markdown",
   "metadata": {},
   "source": [
    "While we will be using dataframes, a data structure we'll discuss later, dictionaries can be very good at structuring data.\n",
    "\n",
    "It's worth noting as well, that lists and dictionaries can work within each other and become nested. For example, I can put my_list into my_dictionary as a value."
   ]
  },
  {
   "cell_type": "code",
   "execution_count": 8,
   "metadata": {},
   "outputs": [
    {
     "data": {
      "text/plain": [
       "{'name': 'Bill', 'grade': 'B', 'list': [1, 2, 3, 4]}"
      ]
     },
     "execution_count": 8,
     "metadata": {},
     "output_type": "execute_result"
    }
   ],
   "source": [
    "my_dictionary['list'] = my_list\n",
    "\n",
    "my_dictionary"
   ]
  },
  {
   "cell_type": "markdown",
   "metadata": {},
   "source": [
    "The first line in the cell above does two things:\n",
    "1. Create a new key named 'list'\n",
    "2. Append a value, my_list to the key\n",
    "\n",
    "I can also change the value of 'list' using the same syntax."
   ]
  },
  {
   "cell_type": "code",
   "execution_count": 9,
   "metadata": {},
   "outputs": [
    {
     "data": {
      "text/plain": [
       "{'name': 'Bill', 'grade': 'B', 'list': [5, 6, 7, 8]}"
      ]
     },
     "execution_count": 9,
     "metadata": {},
     "output_type": "execute_result"
    }
   ],
   "source": [
    "my_dictionary['list'] = [5, 6, 7, 8]\n",
    "\n",
    "my_dictionary"
   ]
  },
  {
   "cell_type": "markdown",
   "metadata": {},
   "source": [
    "I can retrieve keys and values as well using default functions."
   ]
  },
  {
   "cell_type": "code",
   "execution_count": 12,
   "metadata": {},
   "outputs": [
    {
     "data": {
      "text/plain": [
       "dict_keys(['name', 'grade', 'list'])"
      ]
     },
     "execution_count": 12,
     "metadata": {},
     "output_type": "execute_result"
    }
   ],
   "source": [
    "my_dictionary.keys()"
   ]
  },
  {
   "cell_type": "markdown",
   "metadata": {},
   "source": [
    "The data types and structures here are not exhaustive. There are other types that you will likely encounter. And, the data types you do encounter will likely be much larger and complex than the ones here. But, this template covers the very basics of data types in Python.\n",
    "\n",
    "Knowing how to access and change the fundamental data structures and types of Python will become essential for adapting code from the internet. Often, functions require specific data types and structures as input that will likely differ from how your dataset is constructed. "
   ]
  },
  {
   "cell_type": "markdown",
   "metadata": {},
   "source": [
    "____\n",
    "\n",
    "# Sandbox\n",
    "\n",
    "To gain familiarity with data types, try the following exercises:\n",
    "\n",
    "1. Create a variable that stores a string value.\n",
    "2. Concatenate that variable with another string.\n",
    "3. Create a short list of variables.\n",
    "4. Make a dictionary with a key and set its value to the short list you just created."
   ]
  },
  {
   "cell_type": "code",
   "execution_count": null,
   "metadata": {},
   "outputs": [],
   "source": []
  }
 ],
 "metadata": {
  "kernelspec": {
   "display_name": "Python 3",
   "language": "python",
   "name": "python3"
  },
  "language_info": {
   "codemirror_mode": {
    "name": "ipython",
    "version": 3
   },
   "file_extension": ".py",
   "mimetype": "text/x-python",
   "name": "python",
   "nbconvert_exporter": "python",
   "pygments_lexer": "ipython3",
   "version": "3.7.3"
  }
 },
 "nbformat": 4,
 "nbformat_minor": 4
}
