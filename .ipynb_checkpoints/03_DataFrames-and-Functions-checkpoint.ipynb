{
 "cells": [
  {
   "cell_type": "markdown",
   "metadata": {},
   "source": [
    "# Dataframes and Functions\n",
    "\n",
    "In this worksheet, we will start to explore data. The focus here will be on reading in data files and learning the basic syntax of functions, how to decipher and write them. We have already seen a couple of functions, re.search() and re.findall(). \n",
    "\n",
    "The following functions will help us to describe and better understand our dataset. We will move from importing our libraries, defining a path to load the dataset, and then perform some basic functions to describe the data.\n",
    "\n",
    "### Goals\n",
    "1. Import you own data as a dataframe.\n",
    "2. Filter and sort your data using functions like .query().\n",
    "3. Use for loops and if-else statements to manage your data.\n",
    "\n",
    "## Importing Libraries and Defining a Path Variable\n",
    "\n",
    "We have already imported one library (re). This will be a similar process but we'll introduce another feature."
   ]
  },
  {
   "cell_type": "code",
   "execution_count": 8,
   "metadata": {},
   "outputs": [],
   "source": [
    "import re\n",
    "import pandas as pd\n",
    "# To install pandas with conda, open a new terminal and enter, \"conda install -c anaconda pandas\""
   ]
  },
  {
   "cell_type": "markdown",
   "metadata": {},
   "source": [
    "Here, we're not only importing a library called, \"pandas,\" we're re-naming it in this instance as \"pd.\" Much like we had to identify functions by their origin library (re.search, re.findall), we will also need to specify functions as pandas functions. Rather than writing, pandas.Function-Name, we can simply write pd. Many of the functions further down will declare functions as pandas (pd) functions.\n",
    "\n",
    "With our libraries imported, we will now define a string variable that will be useful for loading data and working with file paths."
   ]
  },
  {
   "cell_type": "code",
   "execution_count": 9,
   "metadata": {},
   "outputs": [],
   "source": [
    "abs_dir = \"/Users/williamquinn/Desktop/DH/Python/Teaching/Python-Notebooks/\"\n",
    "# abs_dir is an arbitrary variable name that I use for \"absolute directory.\"\n",
    "# This addition is not necessary but is a quality of life change.\n",
    "# Rather than writing this file path every time, I can use this string variable instead."
   ]
  },
  {
   "cell_type": "markdown",
   "metadata": {},
   "source": [
    "As you'll notice, this file path is specific to my computer. Your computer likely won't have a \"Users/williamquinn/\" directory. You should change the above string to reflect your own file path. If you're unsure what that is, you can enter the code below which will tell you the file path of your working directory (where you are on your computer when running Python)."
   ]
  },
  {
   "cell_type": "code",
   "execution_count": 3,
   "metadata": {},
   "outputs": [
    {
     "data": {
      "text/plain": [
       "'/Users/williamquinn/Desktop/DH/Python/Teaching/Python-Notebooks'"
      ]
     },
     "execution_count": 3,
     "metadata": {},
     "output_type": "execute_result"
    }
   ],
   "source": [
    "import os\n",
    "\n",
    "os.getcwd()"
   ]
  },
  {
   "cell_type": "markdown",
   "metadata": {},
   "source": [
    "We first have to import os, which is a default Python library. You should NOT need to install this with conda. You'll also notice that \"abs_dir\" is almost identical to the working directory. The only difference is that I've added a slash (\"/\") to the end of abs_dir.\n",
    "\n",
    "\n",
    "## Read in Data with Pandas (pd.)\n",
    "\n",
    "With these libraries and a file path variable, we can now load data and create a variable."
   ]
  },
  {
   "cell_type": "code",
   "execution_count": 10,
   "metadata": {
    "scrolled": true
   },
   "outputs": [
    {
     "data": {
      "text/html": [
       "<div>\n",
       "<style scoped>\n",
       "    .dataframe tbody tr th:only-of-type {\n",
       "        vertical-align: middle;\n",
       "    }\n",
       "\n",
       "    .dataframe tbody tr th {\n",
       "        vertical-align: top;\n",
       "    }\n",
       "\n",
       "    .dataframe thead th {\n",
       "        text-align: right;\n",
       "    }\n",
       "</style>\n",
       "<table border=\"1\" class=\"dataframe\">\n",
       "  <thead>\n",
       "    <tr style=\"text-align: right;\">\n",
       "      <th></th>\n",
       "      <th>title</th>\n",
       "      <th>text</th>\n",
       "      <th>subject</th>\n",
       "      <th>date</th>\n",
       "    </tr>\n",
       "  </thead>\n",
       "  <tbody>\n",
       "    <tr>\n",
       "      <th>0</th>\n",
       "      <td>As U.S. budget fight looms, Republicans flip t...</td>\n",
       "      <td>WASHINGTON (Reuters) - The head of a conservat...</td>\n",
       "      <td>politicsNews</td>\n",
       "      <td>December 31, 2017</td>\n",
       "    </tr>\n",
       "    <tr>\n",
       "      <th>1</th>\n",
       "      <td>U.S. military to accept transgender recruits o...</td>\n",
       "      <td>WASHINGTON (Reuters) - Transgender people will...</td>\n",
       "      <td>politicsNews</td>\n",
       "      <td>December 29, 2017</td>\n",
       "    </tr>\n",
       "    <tr>\n",
       "      <th>2</th>\n",
       "      <td>Senior U.S. Republican senator: 'Let Mr. Muell...</td>\n",
       "      <td>WASHINGTON (Reuters) - The special counsel inv...</td>\n",
       "      <td>politicsNews</td>\n",
       "      <td>December 31, 2017</td>\n",
       "    </tr>\n",
       "    <tr>\n",
       "      <th>3</th>\n",
       "      <td>FBI Russia probe helped by Australian diplomat...</td>\n",
       "      <td>WASHINGTON (Reuters) - Trump campaign adviser ...</td>\n",
       "      <td>politicsNews</td>\n",
       "      <td>December 30, 2017</td>\n",
       "    </tr>\n",
       "    <tr>\n",
       "      <th>4</th>\n",
       "      <td>Trump wants Postal Service to charge 'much mor...</td>\n",
       "      <td>SEATTLE/WASHINGTON (Reuters) - President Donal...</td>\n",
       "      <td>politicsNews</td>\n",
       "      <td>December 29, 2017</td>\n",
       "    </tr>\n",
       "  </tbody>\n",
       "</table>\n",
       "</div>"
      ],
      "text/plain": [
       "                                               title  \\\n",
       "0  As U.S. budget fight looms, Republicans flip t...   \n",
       "1  U.S. military to accept transgender recruits o...   \n",
       "2  Senior U.S. Republican senator: 'Let Mr. Muell...   \n",
       "3  FBI Russia probe helped by Australian diplomat...   \n",
       "4  Trump wants Postal Service to charge 'much mor...   \n",
       "\n",
       "                                                text       subject  \\\n",
       "0  WASHINGTON (Reuters) - The head of a conservat...  politicsNews   \n",
       "1  WASHINGTON (Reuters) - Transgender people will...  politicsNews   \n",
       "2  WASHINGTON (Reuters) - The special counsel inv...  politicsNews   \n",
       "3  WASHINGTON (Reuters) - Trump campaign adviser ...  politicsNews   \n",
       "4  SEATTLE/WASHINGTON (Reuters) - President Donal...  politicsNews   \n",
       "\n",
       "                 date  \n",
       "0  December 31, 2017   \n",
       "1  December 29, 2017   \n",
       "2  December 31, 2017   \n",
       "3  December 30, 2017   \n",
       "4  December 29, 2017   "
      ]
     },
     "execution_count": 10,
     "metadata": {},
     "output_type": "execute_result"
    }
   ],
   "source": [
    "data = pd.read_csv(abs_dir + \"data/fake-and-real-news-dataset/True.csv\", sep = \",\")\n",
    "\n",
    "data.head()"
   ]
  },
  {
   "cell_type": "markdown",
   "metadata": {},
   "source": [
    "Like other functions we've seen so far, the pd.read_csv function as some fimilar attributes. Pd.read_csv will create a dataframe, which is what we'll use to process data. We have two arguments, the file path to\"True.csv\" and something called \"sep.\" \n",
    "\n",
    "```python\n",
    "abs_dir + \"data/fake-and-real-news-dataset/True.csv\"\n",
    "```\n",
    "\n",
    "The first argument unsurprisingly tells pd.read_csv where to look. We are using abs_dir, which is a string variable and attaching the following string.\n",
    "\n",
    "``` python\n",
    "sep = ','\n",
    "```\n",
    "The second argument is short for \"separation.\" Sep tells pd.read_csv how to make columns. In this case, means create a new column whenever there is a (non-escaped) comma. A character value that separates data is called a delimiter. We could change the comma to a tab (\"\\t\") or another character we chose. \n",
    "\n",
    "You might also know that the \"csv\" in read_csv is short for comma-separated-values. We can still use pd.read_csv to open files separated by other delimiters. A .csv file can still use tabs to separate values.\n",
    "\n",
    "```python\n",
    "data.head\n",
    "```\n",
    "\n",
    ".head is a built-in Python function that provides a glimpse at the data rather than loading every row into the output. Jupyter Notebook will limit how many rows to print in the output automatically, but .head limits it to the first five rows.\n",
    "\n",
    "### Adding Values to Dataframes\n",
    "\n",
    "As we can see, this data has the necessary columns for text analysis: text (obviously) but also metadata about that text, like date, subject, and title. But, how do we know that these texts are true (or, perhaps more accurately, professional journalism)? Other than the file name, which is True.csv, the data itself does not have a category that indicates its veracity.\n",
    "\n",
    "Before we combine the real news with fake news, we might want to add a column that indicates what the file title tells us. While the reasons for adding metadata that classifies these texts will be more apparent later, for now it is useful to know how to interact with dataframes."
   ]
  },
  {
   "cell_type": "code",
   "execution_count": 11,
   "metadata": {},
   "outputs": [
    {
     "data": {
      "text/html": [
       "<div>\n",
       "<style scoped>\n",
       "    .dataframe tbody tr th:only-of-type {\n",
       "        vertical-align: middle;\n",
       "    }\n",
       "\n",
       "    .dataframe tbody tr th {\n",
       "        vertical-align: top;\n",
       "    }\n",
       "\n",
       "    .dataframe thead th {\n",
       "        text-align: right;\n",
       "    }\n",
       "</style>\n",
       "<table border=\"1\" class=\"dataframe\">\n",
       "  <thead>\n",
       "    <tr style=\"text-align: right;\">\n",
       "      <th></th>\n",
       "      <th>title</th>\n",
       "      <th>text</th>\n",
       "      <th>subject</th>\n",
       "      <th>date</th>\n",
       "      <th>veracity</th>\n",
       "    </tr>\n",
       "  </thead>\n",
       "  <tbody>\n",
       "    <tr>\n",
       "      <th>0</th>\n",
       "      <td>As U.S. budget fight looms, Republicans flip t...</td>\n",
       "      <td>WASHINGTON (Reuters) - The head of a conservat...</td>\n",
       "      <td>politicsNews</td>\n",
       "      <td>December 31, 2017</td>\n",
       "      <td>real</td>\n",
       "    </tr>\n",
       "    <tr>\n",
       "      <th>1</th>\n",
       "      <td>U.S. military to accept transgender recruits o...</td>\n",
       "      <td>WASHINGTON (Reuters) - Transgender people will...</td>\n",
       "      <td>politicsNews</td>\n",
       "      <td>December 29, 2017</td>\n",
       "      <td>real</td>\n",
       "    </tr>\n",
       "    <tr>\n",
       "      <th>2</th>\n",
       "      <td>Senior U.S. Republican senator: 'Let Mr. Muell...</td>\n",
       "      <td>WASHINGTON (Reuters) - The special counsel inv...</td>\n",
       "      <td>politicsNews</td>\n",
       "      <td>December 31, 2017</td>\n",
       "      <td>real</td>\n",
       "    </tr>\n",
       "    <tr>\n",
       "      <th>3</th>\n",
       "      <td>FBI Russia probe helped by Australian diplomat...</td>\n",
       "      <td>WASHINGTON (Reuters) - Trump campaign adviser ...</td>\n",
       "      <td>politicsNews</td>\n",
       "      <td>December 30, 2017</td>\n",
       "      <td>real</td>\n",
       "    </tr>\n",
       "    <tr>\n",
       "      <th>4</th>\n",
       "      <td>Trump wants Postal Service to charge 'much mor...</td>\n",
       "      <td>SEATTLE/WASHINGTON (Reuters) - President Donal...</td>\n",
       "      <td>politicsNews</td>\n",
       "      <td>December 29, 2017</td>\n",
       "      <td>real</td>\n",
       "    </tr>\n",
       "  </tbody>\n",
       "</table>\n",
       "</div>"
      ],
      "text/plain": [
       "                                               title  \\\n",
       "0  As U.S. budget fight looms, Republicans flip t...   \n",
       "1  U.S. military to accept transgender recruits o...   \n",
       "2  Senior U.S. Republican senator: 'Let Mr. Muell...   \n",
       "3  FBI Russia probe helped by Australian diplomat...   \n",
       "4  Trump wants Postal Service to charge 'much mor...   \n",
       "\n",
       "                                                text       subject  \\\n",
       "0  WASHINGTON (Reuters) - The head of a conservat...  politicsNews   \n",
       "1  WASHINGTON (Reuters) - Transgender people will...  politicsNews   \n",
       "2  WASHINGTON (Reuters) - The special counsel inv...  politicsNews   \n",
       "3  WASHINGTON (Reuters) - Trump campaign adviser ...  politicsNews   \n",
       "4  SEATTLE/WASHINGTON (Reuters) - President Donal...  politicsNews   \n",
       "\n",
       "                 date veracity  \n",
       "0  December 31, 2017      real  \n",
       "1  December 29, 2017      real  \n",
       "2  December 31, 2017      real  \n",
       "3  December 30, 2017      real  \n",
       "4  December 29, 2017      real  "
      ]
     },
     "execution_count": 11,
     "metadata": {},
     "output_type": "execute_result"
    }
   ],
   "source": [
    "data['veracity'] = \"real\"\n",
    "\n",
    "data.head()"
   ]
  },
  {
   "cell_type": "markdown",
   "metadata": {},
   "source": [
    "As we can now see, we've added a new column called \"veracity\" and filled every row in the column with a string value, \"true.\"\n",
    "\n",
    "You may also have guessed what the following syntax means:\n",
    "\n",
    "```python\n",
    "data['veracity']\n",
    "```\n",
    "\n",
    "\"data\" is our dataframe. The square brackets after a named dataframe access a specific column. We then make all the values in that column the same value.\n",
    "\n",
    "We can run functions directly to a specific column rather than the entire dataframe using the same syntax."
   ]
  },
  {
   "cell_type": "code",
   "execution_count": 6,
   "metadata": {},
   "outputs": [
    {
     "data": {
      "text/plain": [
       "array(['politicsNews', 'worldnews'], dtype=object)"
      ]
     },
     "execution_count": 6,
     "metadata": {},
     "output_type": "execute_result"
    }
   ],
   "source": [
    "data['subject'].unique()"
   ]
  },
  {
   "cell_type": "markdown",
   "metadata": {},
   "source": [
    "The .unique() function above searches through the entire \"subject\" column for unique values. This function can be useful if you ever need to debug broken code. I often find that .unique() helps when I mistype a value.\n",
    "\n",
    "## Joining Dataframes\n",
    "\n",
    "The \"True.csv\" represents only half of our data, though. Before we start cleaning the text, we should first load \"False.csv\" and join it to our true data."
   ]
  },
  {
   "cell_type": "code",
   "execution_count": 12,
   "metadata": {},
   "outputs": [
    {
     "name": "stdout",
     "output_type": "stream",
     "text": [
      "(44898, 5)\n"
     ]
    },
    {
     "data": {
      "text/html": [
       "<div>\n",
       "<style scoped>\n",
       "    .dataframe tbody tr th:only-of-type {\n",
       "        vertical-align: middle;\n",
       "    }\n",
       "\n",
       "    .dataframe tbody tr th {\n",
       "        vertical-align: top;\n",
       "    }\n",
       "\n",
       "    .dataframe thead th {\n",
       "        text-align: right;\n",
       "    }\n",
       "</style>\n",
       "<table border=\"1\" class=\"dataframe\">\n",
       "  <thead>\n",
       "    <tr style=\"text-align: right;\">\n",
       "      <th></th>\n",
       "      <th>title</th>\n",
       "      <th>text</th>\n",
       "      <th>subject</th>\n",
       "      <th>date</th>\n",
       "      <th>veracity</th>\n",
       "    </tr>\n",
       "  </thead>\n",
       "  <tbody>\n",
       "    <tr>\n",
       "      <th>0</th>\n",
       "      <td>As U.S. budget fight looms, Republicans flip t...</td>\n",
       "      <td>WASHINGTON (Reuters) - The head of a conservat...</td>\n",
       "      <td>politicsNews</td>\n",
       "      <td>December 31, 2017</td>\n",
       "      <td>real</td>\n",
       "    </tr>\n",
       "    <tr>\n",
       "      <th>1</th>\n",
       "      <td>U.S. military to accept transgender recruits o...</td>\n",
       "      <td>WASHINGTON (Reuters) - Transgender people will...</td>\n",
       "      <td>politicsNews</td>\n",
       "      <td>December 29, 2017</td>\n",
       "      <td>real</td>\n",
       "    </tr>\n",
       "    <tr>\n",
       "      <th>2</th>\n",
       "      <td>Senior U.S. Republican senator: 'Let Mr. Muell...</td>\n",
       "      <td>WASHINGTON (Reuters) - The special counsel inv...</td>\n",
       "      <td>politicsNews</td>\n",
       "      <td>December 31, 2017</td>\n",
       "      <td>real</td>\n",
       "    </tr>\n",
       "    <tr>\n",
       "      <th>3</th>\n",
       "      <td>FBI Russia probe helped by Australian diplomat...</td>\n",
       "      <td>WASHINGTON (Reuters) - Trump campaign adviser ...</td>\n",
       "      <td>politicsNews</td>\n",
       "      <td>December 30, 2017</td>\n",
       "      <td>real</td>\n",
       "    </tr>\n",
       "    <tr>\n",
       "      <th>4</th>\n",
       "      <td>Trump wants Postal Service to charge 'much mor...</td>\n",
       "      <td>SEATTLE/WASHINGTON (Reuters) - President Donal...</td>\n",
       "      <td>politicsNews</td>\n",
       "      <td>December 29, 2017</td>\n",
       "      <td>real</td>\n",
       "    </tr>\n",
       "  </tbody>\n",
       "</table>\n",
       "</div>"
      ],
      "text/plain": [
       "                                               title  \\\n",
       "0  As U.S. budget fight looms, Republicans flip t...   \n",
       "1  U.S. military to accept transgender recruits o...   \n",
       "2  Senior U.S. Republican senator: 'Let Mr. Muell...   \n",
       "3  FBI Russia probe helped by Australian diplomat...   \n",
       "4  Trump wants Postal Service to charge 'much mor...   \n",
       "\n",
       "                                                text       subject  \\\n",
       "0  WASHINGTON (Reuters) - The head of a conservat...  politicsNews   \n",
       "1  WASHINGTON (Reuters) - Transgender people will...  politicsNews   \n",
       "2  WASHINGTON (Reuters) - The special counsel inv...  politicsNews   \n",
       "3  WASHINGTON (Reuters) - Trump campaign adviser ...  politicsNews   \n",
       "4  SEATTLE/WASHINGTON (Reuters) - President Donal...  politicsNews   \n",
       "\n",
       "                 date veracity  \n",
       "0  December 31, 2017      real  \n",
       "1  December 29, 2017      real  \n",
       "2  December 31, 2017      real  \n",
       "3  December 30, 2017      real  \n",
       "4  December 29, 2017      real  "
      ]
     },
     "execution_count": 12,
     "metadata": {},
     "output_type": "execute_result"
    }
   ],
   "source": [
    "# We are creating a new variable for our data called \"fake\" with pd.read_csv.\n",
    "fake = pd.read_csv(abs_dir + \"data/fake-and-real-news-dataset/Fake.csv\", sep = \",\")\n",
    "\n",
    "# Assuming the columns are the same in both files, \n",
    "# we'll want to add another column value to indicate this is fake news\n",
    "fake['veracity'] = 'fake'\n",
    "\n",
    "# We will now override our \"data\" variable by joining the original \"data\" with our \"fake\" data.\n",
    "data = pd.concat([data, fake], axis=0, sort=False)\n",
    "\n",
    "print (data.shape)\n",
    "data.head()"
   ]
  },
  {
   "cell_type": "markdown",
   "metadata": {},
   "source": [
    "There are a few new concepts in the code above.\n",
    "\n",
    "```python\n",
    "data = pd.concat([data, fake], axis=0, sort=False)\n",
    "```\n",
    "#### pd.concat\n",
    "\n",
    "So far, pd.concat, short for concatenate, behaves as we would expect.\n",
    "\n",
    "#### [data, fake]\n",
    "\n",
    "The first argument of pd.concat, however, is a list. The list contains our two dataframes so far. These two items within the list are what we want to join together. We can use \"data\" here in two place because setting it as a variable (data = ) will essentialy override the original \"data\" dataframe we created.\n",
    "\n",
    "#### axis=0\n",
    "\n",
    "The second argument of the function, axis=0, is new. The \"axis\" argument is common for pandas dataframes. Axis=0 indicates a column-wise behavior.\n",
    "\n",
    "#### sort=False\n",
    "\n",
    "Notice that False is a different color. In Python, True and False are boolean operators. As expected, sort=False tells pd.concat NOT to sort the data.\n",
    "\n",
    "#### print (data.shape)\n",
    "\n",
    "Looking back at the output of data.head(), you might notice an additional line: (115341, 5). This is the result of our print function. It means the shape of \"data\" is 115,341 rows by 5 columns. print() allows you to print more than one result in the output of the cell.\n",
    "\n",
    "You might also notice that data.shape is peculiar. It looks like a function (and is) but it does not have parenthesis. I can't explain why, to be honest. While I'm sure there's (perhaps) a good reason, the .shape function is a good reminder that we don't necessarily need to be computer scientists to use Python. Often, if you encounter an error, someone else has encountered the same one and found a solution online. (As you'll likely find out, translating solutions from online sources can be its own skillset, one that you'll acquire gradually over time.)\n",
    "\n",
    "In the cell below, \n",
    "1. Use the second cell and the print function at least once to write the unique values of data['subject'] and data['veracity'].\n",
    "2. Try outputting data.shape(). It won't work, but it can be useful to see and (over time) become familiar with deciphering errors. "
   ]
  },
  {
   "cell_type": "code",
   "execution_count": null,
   "metadata": {},
   "outputs": [],
   "source": [
    "# Print the unique values of data['subject']\n",
    "\n",
    "# Print the unique values of data['veracity']\n",
    "\n",
    "# Produce an error by trying data.shape()\n",
    "# This should be the last line you run because an error will interrupt the entire cell whenever it appears.\n"
   ]
  },
  {
   "cell_type": "markdown",
   "metadata": {},
   "source": [
    "## Using conditions to inspect dataframes\n",
    "\n",
    "The last thing we'll learn in this notebook is to inspect the results of dataframes that fulfill specified conditions. Conditions are parameters that we can set to limit data. For example, even though we've joined both True.csv and Fake.csv, we can effectively separate them again by setting conditions that must be true to be included in the new dataset."
   ]
  },
  {
   "cell_type": "code",
   "execution_count": 9,
   "metadata": {},
   "outputs": [
    {
     "name": "stdout",
     "output_type": "stream",
     "text": [
      "(23481, 5)\n"
     ]
    },
    {
     "data": {
      "text/html": [
       "<div>\n",
       "<style scoped>\n",
       "    .dataframe tbody tr th:only-of-type {\n",
       "        vertical-align: middle;\n",
       "    }\n",
       "\n",
       "    .dataframe tbody tr th {\n",
       "        vertical-align: top;\n",
       "    }\n",
       "\n",
       "    .dataframe thead th {\n",
       "        text-align: right;\n",
       "    }\n",
       "</style>\n",
       "<table border=\"1\" class=\"dataframe\">\n",
       "  <thead>\n",
       "    <tr style=\"text-align: right;\">\n",
       "      <th></th>\n",
       "      <th>title</th>\n",
       "      <th>text</th>\n",
       "      <th>subject</th>\n",
       "      <th>date</th>\n",
       "      <th>veracity</th>\n",
       "    </tr>\n",
       "  </thead>\n",
       "  <tbody>\n",
       "    <tr>\n",
       "      <th>0</th>\n",
       "      <td>Donald Trump Sends Out Embarrassing New Year’...</td>\n",
       "      <td>Donald Trump just couldn t wish all Americans ...</td>\n",
       "      <td>News</td>\n",
       "      <td>December 31, 2017</td>\n",
       "      <td>fake</td>\n",
       "    </tr>\n",
       "    <tr>\n",
       "      <th>1</th>\n",
       "      <td>Drunk Bragging Trump Staffer Started Russian ...</td>\n",
       "      <td>House Intelligence Committee Chairman Devin Nu...</td>\n",
       "      <td>News</td>\n",
       "      <td>December 31, 2017</td>\n",
       "      <td>fake</td>\n",
       "    </tr>\n",
       "    <tr>\n",
       "      <th>2</th>\n",
       "      <td>Sheriff David Clarke Becomes An Internet Joke...</td>\n",
       "      <td>On Friday, it was revealed that former Milwauk...</td>\n",
       "      <td>News</td>\n",
       "      <td>December 30, 2017</td>\n",
       "      <td>fake</td>\n",
       "    </tr>\n",
       "    <tr>\n",
       "      <th>3</th>\n",
       "      <td>Trump Is So Obsessed He Even Has Obama’s Name...</td>\n",
       "      <td>On Christmas day, Donald Trump announced that ...</td>\n",
       "      <td>News</td>\n",
       "      <td>December 29, 2017</td>\n",
       "      <td>fake</td>\n",
       "    </tr>\n",
       "    <tr>\n",
       "      <th>4</th>\n",
       "      <td>Pope Francis Just Called Out Donald Trump Dur...</td>\n",
       "      <td>Pope Francis used his annual Christmas Day mes...</td>\n",
       "      <td>News</td>\n",
       "      <td>December 25, 2017</td>\n",
       "      <td>fake</td>\n",
       "    </tr>\n",
       "  </tbody>\n",
       "</table>\n",
       "</div>"
      ],
      "text/plain": [
       "                                               title  \\\n",
       "0   Donald Trump Sends Out Embarrassing New Year’...   \n",
       "1   Drunk Bragging Trump Staffer Started Russian ...   \n",
       "2   Sheriff David Clarke Becomes An Internet Joke...   \n",
       "3   Trump Is So Obsessed He Even Has Obama’s Name...   \n",
       "4   Pope Francis Just Called Out Donald Trump Dur...   \n",
       "\n",
       "                                                text subject  \\\n",
       "0  Donald Trump just couldn t wish all Americans ...    News   \n",
       "1  House Intelligence Committee Chairman Devin Nu...    News   \n",
       "2  On Friday, it was revealed that former Milwauk...    News   \n",
       "3  On Christmas day, Donald Trump announced that ...    News   \n",
       "4  Pope Francis used his annual Christmas Day mes...    News   \n",
       "\n",
       "                date veracity  \n",
       "0  December 31, 2017     fake  \n",
       "1  December 31, 2017     fake  \n",
       "2  December 30, 2017     fake  \n",
       "3  December 29, 2017     fake  \n",
       "4  December 25, 2017     fake  "
      ]
     },
     "execution_count": 9,
     "metadata": {},
     "output_type": "execute_result"
    }
   ],
   "source": [
    "fake = data.query('veracity == \"fake\"')\n",
    "\n",
    "print (fake.shape)\n",
    "fake.head()"
   ]
  },
  {
   "cell_type": "markdown",
   "metadata": {},
   "source": [
    "We've re-create the fake dataframe by using a new function .query. \n",
    "\n",
    "There are a handful of conditions that you might recognize from math classes:\n",
    "\n",
    "* Equals: ==\n",
    "* Not equals: != \n",
    "* Less than: <\n",
    "* Less than or equal to: <=\n",
    "* Greater than: >\n",
    "* Greater than or equal to: >=\n",
    "\n",
    "However,\n",
    "```python\n",
    "data.query('veracity == \"fake\"')\n",
    "```\n",
    "isn't working with numbers. Instead, .query is asking each row: does your \"veracity\" column equal the string \"fake.\" If the answer is yes, then that row gets to stay.\n",
    "\n",
    "You should also notice the use of quotations. Because .query uses single quotation marks within the parenthesis, any string variable has to be within double-quotation marks.\n",
    "\n",
    "\n",
    "\n",
    "## Loops\n",
    "\n",
    "What if you want to further specify and limit your corpus? There are built in Python functions that allow you to create your own functions...\n",
    "\n",
    "What if you want all the news articles (fake and real) from December only?\n",
    "\n",
    "### For Loops"
   ]
  },
  {
   "cell_type": "code",
   "execution_count": 10,
   "metadata": {},
   "outputs": [
    {
     "name": "stdout",
     "output_type": "stream",
     "text": [
      "1\n",
      "2\n",
      "3\n",
      "4\n",
      "5\n",
      "6\n",
      "7\n",
      "8\n",
      "9\n",
      "10\n",
      "[1, 2, 3, 4, 5, 6, 7, 8, 9, 10]\n"
     ]
    }
   ],
   "source": [
    "# Before we attempt a loop on our dataset, let's practice on a simple list.\n",
    "our_list = [1, 2, 3, 4, 5, 6, 7, 8, 9, 10]\n",
    "\n",
    "# For Loop\n",
    "# A for loop will recognize every distinct item or object within another a list or object.\n",
    "for i in our_list:\n",
    "#     Notice, the colon and indentation. \n",
    "#     The first line of a loop must end with a colon.\n",
    "#     The following line must be indented, either a tab or 4 spaces.\n",
    "    print (i)\n",
    "    \n",
    "print (our_list)"
   ]
  },
  {
   "cell_type": "markdown",
   "metadata": {},
   "source": [
    "The for loop we just created broke down \"our_list\" into individual units, what we've called \"i\" (\"i\" could be any name you choose). Python recognizes that the structure of \"our_list\" is a list, and the for loop should behave in a way that handles each item individually. The two print functions (print (i) and print (our_list)) should illustrate how the for loop operates differently than simply printing the entire list.\n",
    "\n",
    "You might also notice \"in\" there. A for loop looks for units within an object. The syntax of \"in\" tells the for loop where to look.\n",
    "\n",
    "## If-Else Statements\n",
    "\n",
    "Perhaps, we don't want to print every single item within a list. Instead, we want only to print the 7 integer. We can add an \"if statement\" to our for loop to further constrain the operation."
   ]
  },
  {
   "cell_type": "code",
   "execution_count": 11,
   "metadata": {},
   "outputs": [
    {
     "name": "stdout",
     "output_type": "stream",
     "text": [
      "This number is not 7\n",
      "This number is not 7\n",
      "This number is not 7\n",
      "This number is not 7\n",
      "This number is not 7\n",
      "This number is not 7\n",
      "7\n",
      "This number is not 7\n",
      "This number is not 7\n",
      "This number is not 7\n"
     ]
    }
   ],
   "source": [
    "for i in our_list:\n",
    "    if i==7:\n",
    "        print (i)\n",
    "    else:\n",
    "        print (\"This number is not 7\")"
   ]
  },
  {
   "cell_type": "markdown",
   "metadata": {},
   "source": [
    "The if-else statement follows the same construction as the for loop. Here, we are telling the for loop to check if an item in our_list equals 7 (i==7). If it does not equal 7 (i!=7), then the loop should print: \"This number is not 7.\" If i does equal 7, then it should print \"i,\" which is 7.\n",
    "\n",
    "These fundamental loops can be very effective when trying to interact with your dataset. With for loops and if-else statements, we can reduce our dataset to news (fake and real) published in the month of December."
   ]
  },
  {
   "cell_type": "code",
   "execution_count": 12,
   "metadata": {},
   "outputs": [
    {
     "name": "stdout",
     "output_type": "stream",
     "text": [
      "(3538, 5)\n"
     ]
    },
    {
     "data": {
      "text/html": [
       "<div>\n",
       "<style scoped>\n",
       "    .dataframe tbody tr th:only-of-type {\n",
       "        vertical-align: middle;\n",
       "    }\n",
       "\n",
       "    .dataframe tbody tr th {\n",
       "        vertical-align: top;\n",
       "    }\n",
       "\n",
       "    .dataframe thead th {\n",
       "        text-align: right;\n",
       "    }\n",
       "</style>\n",
       "<table border=\"1\" class=\"dataframe\">\n",
       "  <thead>\n",
       "    <tr style=\"text-align: right;\">\n",
       "      <th></th>\n",
       "      <th>title</th>\n",
       "      <th>text</th>\n",
       "      <th>subject</th>\n",
       "      <th>date</th>\n",
       "      <th>veracity</th>\n",
       "    </tr>\n",
       "  </thead>\n",
       "  <tbody>\n",
       "    <tr>\n",
       "      <th>0</th>\n",
       "      <td>As U.S. budget fight looms, Republicans flip t...</td>\n",
       "      <td>WASHINGTON (Reuters) - The head of a conservat...</td>\n",
       "      <td>politicsNews</td>\n",
       "      <td>December 31, 2017</td>\n",
       "      <td>real</td>\n",
       "    </tr>\n",
       "    <tr>\n",
       "      <th>1</th>\n",
       "      <td>U.S. military to accept transgender recruits o...</td>\n",
       "      <td>WASHINGTON (Reuters) - Transgender people will...</td>\n",
       "      <td>politicsNews</td>\n",
       "      <td>December 29, 2017</td>\n",
       "      <td>real</td>\n",
       "    </tr>\n",
       "    <tr>\n",
       "      <th>2</th>\n",
       "      <td>Senior U.S. Republican senator: 'Let Mr. Muell...</td>\n",
       "      <td>WASHINGTON (Reuters) - The special counsel inv...</td>\n",
       "      <td>politicsNews</td>\n",
       "      <td>December 31, 2017</td>\n",
       "      <td>real</td>\n",
       "    </tr>\n",
       "    <tr>\n",
       "      <th>3</th>\n",
       "      <td>FBI Russia probe helped by Australian diplomat...</td>\n",
       "      <td>WASHINGTON (Reuters) - Trump campaign adviser ...</td>\n",
       "      <td>politicsNews</td>\n",
       "      <td>December 30, 2017</td>\n",
       "      <td>real</td>\n",
       "    </tr>\n",
       "    <tr>\n",
       "      <th>4</th>\n",
       "      <td>Trump wants Postal Service to charge 'much mor...</td>\n",
       "      <td>SEATTLE/WASHINGTON (Reuters) - President Donal...</td>\n",
       "      <td>politicsNews</td>\n",
       "      <td>December 29, 2017</td>\n",
       "      <td>real</td>\n",
       "    </tr>\n",
       "  </tbody>\n",
       "</table>\n",
       "</div>"
      ],
      "text/plain": [
       "                                               title  \\\n",
       "0  As U.S. budget fight looms, Republicans flip t...   \n",
       "1  U.S. military to accept transgender recruits o...   \n",
       "2  Senior U.S. Republican senator: 'Let Mr. Muell...   \n",
       "3  FBI Russia probe helped by Australian diplomat...   \n",
       "4  Trump wants Postal Service to charge 'much mor...   \n",
       "\n",
       "                                                text       subject  \\\n",
       "0  WASHINGTON (Reuters) - The head of a conservat...  politicsNews   \n",
       "1  WASHINGTON (Reuters) - Transgender people will...  politicsNews   \n",
       "2  WASHINGTON (Reuters) - The special counsel inv...  politicsNews   \n",
       "3  WASHINGTON (Reuters) - Trump campaign adviser ...  politicsNews   \n",
       "4  SEATTLE/WASHINGTON (Reuters) - President Donal...  politicsNews   \n",
       "\n",
       "                 date veracity  \n",
       "0  December 31, 2017      real  \n",
       "1  December 29, 2017      real  \n",
       "2  December 31, 2017      real  \n",
       "3  December 30, 2017      real  \n",
       "4  December 29, 2017      real  "
      ]
     },
     "execution_count": 12,
     "metadata": {},
     "output_type": "execute_result"
    }
   ],
   "source": [
    "# First, we'll create an empty dataframe to store new rows as we come across them.\n",
    "new_data = pd.DataFrame()\n",
    "\n",
    "# Next, we'll write a \"for loop.\"\n",
    "#     data.iterrows() takes our \"data\" dataframe and makes it iterable. That is, it allows a for loop to read it.\n",
    "#     .iterrows() also requires two variables. We have \"index\" and \"row\" here\n",
    "#     But it could just as well be \"i\", \"r\"\n",
    "for index, row in data.iterrows():\n",
    "\n",
    "#     Here, we will check for the string \"December\" in the date column of each row.\n",
    "    if \"December\" in row['date']:\n",
    "#         The last step is appending each row that meets our if statement to new_data.\n",
    "        new_data = new_data.append([row])\n",
    "\n",
    "#     This else statement tells the for loop to continue (basically ignore) rows that don't meet the if condition.\n",
    "    else:\n",
    "        pass\n",
    "    \n",
    "\n",
    "print (new_data.shape)\n",
    "new_data.head()"
   ]
  },
  {
   "cell_type": "markdown",
   "metadata": {},
   "source": [
    "The code above is more complex than we've seen so far, but we can make sense of it when we think about it in simpler steps.\n",
    "\n",
    "1. Create a new, empty dataframe.\n",
    "2. Create a for loop to iterate through each row (and index) of our old dataframe.\n",
    "3. Query the 'date' column of that row for the string \"December\"\n",
    "4. Append the entire row to the old dataframe if the if-else condition is met.\n",
    "\n",
    "When creating more complicated functions, it can be useful to go step-by-step."
   ]
  },
  {
   "cell_type": "markdown",
   "metadata": {},
   "source": [
    "## Conclusion\n",
    "\n",
    "In this notebook, we covered a lot of foundational operations in Python. While you might be able to copy and paste certain functions (pd.read_csv), other code loops (for, if, in) requires more practice. Again the goal of these notebooks or learning code in general is NOT to memorize as much as you can. It's far more effective to learn how to find solutions online. Hopefully, though, this particular notebook might work as a reference guide for you in case you forget how to read a csv file or use a for loop.\n",
    "\n",
    "As we'll see in later notebooks, the kind of coding we'll be doing relies on using tried and true methods. This notebook will hopefully provide you with a model for how to:\n",
    "1. Import you own data as a dataframe.\n",
    "2. Filter and sort your data using functions like .query().\n",
    "3. Use for loops and if-else statements to manage your data.\n",
    "\n",
    "## Exercises\n",
    "\n",
    "Looking at the text column of our dataframe ('data'), we can see a re-occuring pattern: many news articles begin with a place of publication and the publisher. Can you write a regex function to remove that information? Better yet, can you move that information out of the text column and into a new column?"
   ]
  },
  {
   "cell_type": "code",
   "execution_count": null,
   "metadata": {},
   "outputs": [],
   "source": []
  }
 ],
 "metadata": {
  "kernelspec": {
   "display_name": "Python 3",
   "language": "python",
   "name": "python3"
  },
  "language_info": {
   "codemirror_mode": {
    "name": "ipython",
    "version": 3
   },
   "file_extension": ".py",
   "mimetype": "text/x-python",
   "name": "python",
   "nbconvert_exporter": "python",
   "pygments_lexer": "ipython3",
   "version": "3.7.3"
  }
 },
 "nbformat": 4,
 "nbformat_minor": 4
}
