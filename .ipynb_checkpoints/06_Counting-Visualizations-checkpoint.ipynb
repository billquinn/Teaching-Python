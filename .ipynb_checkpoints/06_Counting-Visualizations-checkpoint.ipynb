{
 "cells": [
  {
   "cell_type": "markdown",
   "metadata": {},
   "source": [
    "# Counting & Visualizations\n",
    "\n",
    "It's easy to consider visualization as the final phase or product of text analysis. But, it's often the first and dominant mode we encounter data. Imagining what visualizations you might make from data helps to determine what that data can and cannot show. Visualization should be considered at every phase of data analysis.\n",
    "\n",
    "### Goals\n",
    "1. Learn the basics of visualization libraries of Python (seaborn, matplot, plotly).\n",
    "\n",
    "First, we'll read in our data and make sure everything saved properly from the last notebook."
   ]
  },
  {
   "cell_type": "code",
   "execution_count": 1,
   "metadata": {},
   "outputs": [],
   "source": [
    "import re\n",
    "import pandas as pd\n",
    "\n",
    "import seaborn as sns\n",
    "import matplotlib.pyplot as plt\n",
    "\n",
    "abs_dir = \"/Users/williamquinn/Desktop/DH/Python/Teaching/Python-Notebooks/\""
   ]
  },
  {
   "cell_type": "code",
   "execution_count": 2,
   "metadata": {},
   "outputs": [
    {
     "name": "stdout",
     "output_type": "stream",
     "text": [
      "['real' 'fake'] \n",
      " (57887, 6)\n"
     ]
    },
    {
     "data": {
      "text/html": [
       "<div>\n",
       "<style scoped>\n",
       "    .dataframe tbody tr th:only-of-type {\n",
       "        vertical-align: middle;\n",
       "    }\n",
       "\n",
       "    .dataframe tbody tr th {\n",
       "        vertical-align: top;\n",
       "    }\n",
       "\n",
       "    .dataframe thead th {\n",
       "        text-align: right;\n",
       "    }\n",
       "</style>\n",
       "<table border=\"1\" class=\"dataframe\">\n",
       "  <thead>\n",
       "    <tr style=\"text-align: right;\">\n",
       "      <th></th>\n",
       "      <th>title</th>\n",
       "      <th>text</th>\n",
       "      <th>subject</th>\n",
       "      <th>date</th>\n",
       "      <th>veracity</th>\n",
       "      <th>dataset</th>\n",
       "    </tr>\n",
       "  </thead>\n",
       "  <tbody>\n",
       "    <tr>\n",
       "      <th>0</th>\n",
       "      <td>As U.S. budget fight looms, Republicans flip t...</td>\n",
       "      <td>WASHINGTON (Reuters) - The head of a conservat...</td>\n",
       "      <td>politicsNews</td>\n",
       "      <td>2017-12-31</td>\n",
       "      <td>real</td>\n",
       "      <td>0</td>\n",
       "    </tr>\n",
       "    <tr>\n",
       "      <th>1</th>\n",
       "      <td>U.S. military to accept transgender recruits o...</td>\n",
       "      <td>WASHINGTON (Reuters) - Transgender people will...</td>\n",
       "      <td>politicsNews</td>\n",
       "      <td>2017-12-29</td>\n",
       "      <td>real</td>\n",
       "      <td>0</td>\n",
       "    </tr>\n",
       "    <tr>\n",
       "      <th>2</th>\n",
       "      <td>Senior U.S. Republican senator: 'Let Mr. Muell...</td>\n",
       "      <td>WASHINGTON (Reuters) - The special counsel inv...</td>\n",
       "      <td>politicsNews</td>\n",
       "      <td>2017-12-31</td>\n",
       "      <td>real</td>\n",
       "      <td>0</td>\n",
       "    </tr>\n",
       "    <tr>\n",
       "      <th>3</th>\n",
       "      <td>FBI Russia probe helped by Australian diplomat...</td>\n",
       "      <td>WASHINGTON (Reuters) - Trump campaign adviser ...</td>\n",
       "      <td>politicsNews</td>\n",
       "      <td>2017-12-30</td>\n",
       "      <td>real</td>\n",
       "      <td>0</td>\n",
       "    </tr>\n",
       "    <tr>\n",
       "      <th>4</th>\n",
       "      <td>Trump wants Postal Service to charge 'much mor...</td>\n",
       "      <td>SEATTLE/WASHINGTON (Reuters) - President Donal...</td>\n",
       "      <td>politicsNews</td>\n",
       "      <td>2017-12-29</td>\n",
       "      <td>real</td>\n",
       "      <td>0</td>\n",
       "    </tr>\n",
       "  </tbody>\n",
       "</table>\n",
       "</div>"
      ],
      "text/plain": [
       "                                               title  \\\n",
       "0  As U.S. budget fight looms, Republicans flip t...   \n",
       "1  U.S. military to accept transgender recruits o...   \n",
       "2  Senior U.S. Republican senator: 'Let Mr. Muell...   \n",
       "3  FBI Russia probe helped by Australian diplomat...   \n",
       "4  Trump wants Postal Service to charge 'much mor...   \n",
       "\n",
       "                                                text       subject  \\\n",
       "0  WASHINGTON (Reuters) - The head of a conservat...  politicsNews   \n",
       "1  WASHINGTON (Reuters) - Transgender people will...  politicsNews   \n",
       "2  WASHINGTON (Reuters) - The special counsel inv...  politicsNews   \n",
       "3  WASHINGTON (Reuters) - Trump campaign adviser ...  politicsNews   \n",
       "4  SEATTLE/WASHINGTON (Reuters) - President Donal...  politicsNews   \n",
       "\n",
       "         date veracity  dataset  \n",
       "0  2017-12-31     real        0  \n",
       "1  2017-12-29     real        0  \n",
       "2  2017-12-31     real        0  \n",
       "3  2017-12-30     real        0  \n",
       "4  2017-12-29     real        0  "
      ]
     },
     "execution_count": 2,
     "metadata": {},
     "output_type": "execute_result"
    }
   ],
   "source": [
    "data = pd.read_csv(abs_dir + \"data/dataframe.csv\",\n",
    "                   sep = \",\")\n",
    "\n",
    "# We're going to print multiple things here, including a '\\n', which is a newline.\n",
    "print (data['veracity'].unique(), '\\n', data.shape)\n",
    "data.head()"
   ]
  },
  {
   "cell_type": "markdown",
   "metadata": {},
   "source": [
    "## Simple Counting\n",
    "\n",
    "As we can see in our dataframe, we don't yet have anything to count. That is, there are no columns that are numerical data. Before we can visualize our data, we need to create a new field (or column). \n",
    "\n",
    "This is where data analysis calls for creativity and practice. Looking at our data, we could imagine counting a few different things. For starters, let's first count how our dataset splits between fake and real news."
   ]
  },
  {
   "cell_type": "code",
   "execution_count": 3,
   "metadata": {},
   "outputs": [
    {
     "name": "stdout",
     "output_type": "stream",
     "text": [
      "  veracity      0\n",
      "0     fake  36470\n",
      "1     real  21417\n"
     ]
    },
    {
     "data": {
      "text/html": [
       "<div>\n",
       "<style scoped>\n",
       "    .dataframe tbody tr th:only-of-type {\n",
       "        vertical-align: middle;\n",
       "    }\n",
       "\n",
       "    .dataframe tbody tr th {\n",
       "        vertical-align: top;\n",
       "    }\n",
       "\n",
       "    .dataframe thead th {\n",
       "        text-align: right;\n",
       "    }\n",
       "</style>\n",
       "<table border=\"1\" class=\"dataframe\">\n",
       "  <thead>\n",
       "    <tr style=\"text-align: right;\">\n",
       "      <th></th>\n",
       "      <th>veracity</th>\n",
       "      <th>count</th>\n",
       "    </tr>\n",
       "  </thead>\n",
       "  <tbody>\n",
       "    <tr>\n",
       "      <th>0</th>\n",
       "      <td>fake</td>\n",
       "      <td>36470</td>\n",
       "    </tr>\n",
       "    <tr>\n",
       "      <th>1</th>\n",
       "      <td>real</td>\n",
       "      <td>21417</td>\n",
       "    </tr>\n",
       "  </tbody>\n",
       "</table>\n",
       "</div>"
      ],
      "text/plain": [
       "  veracity  count\n",
       "0     fake  36470\n",
       "1     real  21417"
      ]
     },
     "execution_count": 3,
     "metadata": {},
     "output_type": "execute_result"
    }
   ],
   "source": [
    "counts = data \\\n",
    "    .groupby(['veracity']) \\\n",
    "    .size() \\\n",
    "    .reset_index()\n",
    "\n",
    "print (counts)\n",
    "\n",
    "counts = counts.rename(columns = {\"veracity\":\"veracity\", 0:\"count\"})\n",
    "\n",
    "counts"
   ]
  },
  {
   "cell_type": "markdown",
   "metadata": {},
   "source": [
    "There are a few steps happening quickly in the cell above. We'll walk through them as they appear.\n",
    "\n",
    "#### counts = data \\\n",
    "\n",
    "This should look mostly familiar. We're creating a new variable called \"counts.\" To create that variable, we're first starting with our dataframe, \"data.\" The perhaps new feature is that slash at the end. The slash allows us to write each function on its own line. This makes writing and reading code more readable. The use of slash and indents allows us to visualize the sequence of functions more clearly.\n",
    "\n",
    "#### .groupby(['veracity'])\n",
    "\n",
    ".groupby() takes specified columns and groups them together so that you can perform functions on the different values that appear within that column. Here, we're taking the \"veracity\" column only and telling the following functions to distinguish between the \"real\" and \"fake\" values within the column. The square brackets within the parenthesis allow you to group with a list. Later, we can take the \"veracity\" and \"date\" column together.\n",
    "\n",
    "#### .size()\n",
    "  \n",
    "The .size function counts the number of times an instance occurs. For example, as we can see in our results, there are 23,481 fake articles and 21,417 real articles. .size() counts the number of times each value of our group appears.\n",
    "\n",
    "#### .reset_index()\n",
    "\n",
    "Dataframes in pandas retain an index throughout the functions we call. This tends to return dataframes that don't quite work the way we expect. For instance, we might get a dataframe with multiple levels, which can make it difficult to run functions. .reset_index(), as the name implies, resets the index and returns a dataframe that behaves in more familiar ways.\n",
    "\n",
    "\n",
    "```python\n",
    "print (counts)\n",
    "```\n",
    "I've decided to print counts here to show how the column names have changed. Although we've effectively counted the values within each group, we never told pandas what that column's name should be. It returns zero (0) by default.\n",
    "\n",
    "```python\n",
    "counts = counts.rename(columns = {\"veracity\":\"veracity\", 0:\"count\"})\n",
    "```\n",
    "\n",
    "We might recognize that we're overriding \"counts\" with a modified version of \"counts.\" We're also calling the .rename() function to change the column names. \n",
    "\n",
    "Within the rename function, there is columns = {}. This acts just like a variable. We're telling .rename what the columns should be called. The {} looks like a dictionary with keys and values. We can re-read this dictionary like object as \n",
    "```python\n",
    "{'old-column-name':'new-column-name', \n",
    " 'another-column-old-name':'another-column-new-name'}.\n",
    "```\n",
    "\n",
    "You can add as many columns as you need. They don't need to be in any sort of order because of the key-value structure. "
   ]
  },
  {
   "cell_type": "markdown",
   "metadata": {},
   "source": [
    "## Simple Visualization\n",
    "\n",
    "We have very simple data at the moment and don't necessarily need to use a visualization. But, our 2x2 dataframe will allow us to learn the very basics of Python visualization. We'll start with seaborn and matplot, which we've already import above."
   ]
  },
  {
   "cell_type": "code",
   "execution_count": 4,
   "metadata": {},
   "outputs": [
    {
     "data": {
      "image/png": "[encoded data removed]",
      "text/plain": [
       "<Figure size 432x288 with 1 Axes>"
      ]
     },
     "metadata": {
      "needs_background": "light"
     },
     "output_type": "display_data"
    }
   ],
   "source": [
    "ax = sns.barplot(data=counts, x=\"veracity\", y=\"count\", hue=\"veracity\")"
   ]
  },
  {
   "cell_type": "markdown",
   "metadata": {},
   "source": [
    "The simple bar chart above conveys even less than the table we produced above. But, we can start to break down the essential components of seaborn.\n",
    "\n",
    "#### sns.barplot()\n",
    "\n",
    "Similar to our use of pd instead of pandas, we have sns to specify which barplot() function we want. There are other charts we could've chosen within seaborn, and it could be useful to browse them online.\n",
    "\n",
    "#### data = counts\n",
    "\n",
    "Here, we have our first argument, which simply tells seaborn where to find the x, y, and hue arguments that we call later.\n",
    "\n",
    "#### x = \"veracity\", y = \"count\"\n",
    "\n",
    "These two arguments inform seaborn how to organize the graph. \"x\" is our x-axis, and \"y\" is our y-axis. Seaborn is very helpful because it recognizes the difference between categorical variables (\"fake\" and \"real\") and continuous variables (integers and numbers). We could make the graph horizontal by writing: x = \"count\", y = \"veracity\".\n",
    "\n",
    "#### hue = \"veracity\"\n",
    "\n",
    "Hue determines how to color each value.\n",
    "\n",
    "Once we tell seaborn what our data is, we then use column names to fill out the rest of the arguments to create our graph.\n",
    "\n",
    "When you're comfortable with these basics, you can start to add more details. For instance, the legend in the top right corner is not ideal. Try searching the documentation (do a quick internet search for \"python seaborn barchart\") for how to place the legend somewhere else."
   ]
  },
  {
   "cell_type": "code",
   "execution_count": null,
   "metadata": {},
   "outputs": [],
   "source": []
  },
  {
   "cell_type": "markdown",
   "metadata": {},
   "source": [
    "## More Complicated Counting\n",
    "\n",
    "Using the basics of simple counting and visualization above, we can start to create graphs that convey more information. For example, we might want to find trends of fake articles over time. In other words, were there certain dates when fake news articles were more common?\n",
    "\n",
    "To answer this question, we can use our grouping method from earlier."
   ]
  },
  {
   "cell_type": "code",
   "execution_count": 5,
   "metadata": {},
   "outputs": [
    {
     "data": {
      "text/html": [
       "<div>\n",
       "<style scoped>\n",
       "    .dataframe tbody tr th:only-of-type {\n",
       "        vertical-align: middle;\n",
       "    }\n",
       "\n",
       "    .dataframe tbody tr th {\n",
       "        vertical-align: top;\n",
       "    }\n",
       "\n",
       "    .dataframe thead th {\n",
       "        text-align: right;\n",
       "    }\n",
       "</style>\n",
       "<table border=\"1\" class=\"dataframe\">\n",
       "  <thead>\n",
       "    <tr style=\"text-align: right;\">\n",
       "      <th></th>\n",
       "      <th>date</th>\n",
       "      <th>veracity</th>\n",
       "      <th>count</th>\n",
       "    </tr>\n",
       "  </thead>\n",
       "  <tbody>\n",
       "    <tr>\n",
       "      <th>0</th>\n",
       "      <td>2015-03-31</td>\n",
       "      <td>fake</td>\n",
       "      <td>8</td>\n",
       "    </tr>\n",
       "    <tr>\n",
       "      <th>1</th>\n",
       "      <td>2015-04-01</td>\n",
       "      <td>fake</td>\n",
       "      <td>2</td>\n",
       "    </tr>\n",
       "    <tr>\n",
       "      <th>2</th>\n",
       "      <td>2015-04-02</td>\n",
       "      <td>fake</td>\n",
       "      <td>1</td>\n",
       "    </tr>\n",
       "    <tr>\n",
       "      <th>3</th>\n",
       "      <td>2015-04-04</td>\n",
       "      <td>fake</td>\n",
       "      <td>5</td>\n",
       "    </tr>\n",
       "    <tr>\n",
       "      <th>4</th>\n",
       "      <td>2015-04-05</td>\n",
       "      <td>fake</td>\n",
       "      <td>13</td>\n",
       "    </tr>\n",
       "    <tr>\n",
       "      <th>...</th>\n",
       "      <td>...</td>\n",
       "      <td>...</td>\n",
       "      <td>...</td>\n",
       "    </tr>\n",
       "    <tr>\n",
       "      <th>1752</th>\n",
       "      <td>2018-02-15</td>\n",
       "      <td>fake</td>\n",
       "      <td>9</td>\n",
       "    </tr>\n",
       "    <tr>\n",
       "      <th>1753</th>\n",
       "      <td>2018-02-16</td>\n",
       "      <td>fake</td>\n",
       "      <td>8</td>\n",
       "    </tr>\n",
       "    <tr>\n",
       "      <th>1754</th>\n",
       "      <td>2018-02-17</td>\n",
       "      <td>fake</td>\n",
       "      <td>7</td>\n",
       "    </tr>\n",
       "    <tr>\n",
       "      <th>1755</th>\n",
       "      <td>2018-02-18</td>\n",
       "      <td>fake</td>\n",
       "      <td>7</td>\n",
       "    </tr>\n",
       "    <tr>\n",
       "      <th>1756</th>\n",
       "      <td>2018-02-19</td>\n",
       "      <td>fake</td>\n",
       "      <td>3</td>\n",
       "    </tr>\n",
       "  </tbody>\n",
       "</table>\n",
       "<p>1757 rows × 3 columns</p>\n",
       "</div>"
      ],
      "text/plain": [
       "            date veracity  count\n",
       "0     2015-03-31     fake      8\n",
       "1     2015-04-01     fake      2\n",
       "2     2015-04-02     fake      1\n",
       "3     2015-04-04     fake      5\n",
       "4     2015-04-05     fake     13\n",
       "...          ...      ...    ...\n",
       "1752  2018-02-15     fake      9\n",
       "1753  2018-02-16     fake      8\n",
       "1754  2018-02-17     fake      7\n",
       "1755  2018-02-18     fake      7\n",
       "1756  2018-02-19     fake      3\n",
       "\n",
       "[1757 rows x 3 columns]"
      ]
     },
     "execution_count": 5,
     "metadata": {},
     "output_type": "execute_result"
    }
   ],
   "source": [
    "# I'm using .to_frame() to name the new field created by size().\n",
    "trends = data \\\n",
    "    .groupby(['date', 'veracity']) \\\n",
    "    .size() \\\n",
    "    .to_frame('count') \\\n",
    "    .reset_index()\n",
    "\n",
    "trends"
   ]
  },
  {
   "cell_type": "markdown",
   "metadata": {},
   "source": [
    "At the moment, we have the number of news articles (real and fake) published each day. While this is very specific, it might be too exact. It might be more useful to sum the number of articles published each year."
   ]
  },
  {
   "cell_type": "code",
   "execution_count": 6,
   "metadata": {},
   "outputs": [
    {
     "name": "stdout",
     "output_type": "stream",
     "text": [
      "         date veracity  count  year\n",
      "0  2015-03-31     fake      8  2015\n",
      "1  2015-04-01     fake      2  2015\n",
      "2  2015-04-02     fake      1  2015\n",
      "3  2015-04-04     fake      5  2015\n",
      "4  2015-04-05     fake     13  2015\n"
     ]
    },
    {
     "data": {
      "text/html": [
       "<div>\n",
       "<style scoped>\n",
       "    .dataframe tbody tr th:only-of-type {\n",
       "        vertical-align: middle;\n",
       "    }\n",
       "\n",
       "    .dataframe tbody tr th {\n",
       "        vertical-align: top;\n",
       "    }\n",
       "\n",
       "    .dataframe thead th {\n",
       "        text-align: right;\n",
       "    }\n",
       "</style>\n",
       "<table border=\"1\" class=\"dataframe\">\n",
       "  <thead>\n",
       "    <tr style=\"text-align: right;\">\n",
       "      <th></th>\n",
       "      <th>year</th>\n",
       "      <th>veracity</th>\n",
       "      <th>count</th>\n",
       "    </tr>\n",
       "  </thead>\n",
       "  <tbody>\n",
       "    <tr>\n",
       "      <th>0</th>\n",
       "      <td>2015</td>\n",
       "      <td>fake</td>\n",
       "      <td>273</td>\n",
       "    </tr>\n",
       "    <tr>\n",
       "      <th>1</th>\n",
       "      <td>2016</td>\n",
       "      <td>fake</td>\n",
       "      <td>397</td>\n",
       "    </tr>\n",
       "    <tr>\n",
       "      <th>2</th>\n",
       "      <td>2016</td>\n",
       "      <td>real</td>\n",
       "      <td>352</td>\n",
       "    </tr>\n",
       "    <tr>\n",
       "      <th>3</th>\n",
       "      <td>2017</td>\n",
       "      <td>fake</td>\n",
       "      <td>365</td>\n",
       "    </tr>\n",
       "    <tr>\n",
       "      <th>4</th>\n",
       "      <td>2017</td>\n",
       "      <td>real</td>\n",
       "      <td>364</td>\n",
       "    </tr>\n",
       "    <tr>\n",
       "      <th>5</th>\n",
       "      <td>2018</td>\n",
       "      <td>fake</td>\n",
       "      <td>6</td>\n",
       "    </tr>\n",
       "  </tbody>\n",
       "</table>\n",
       "</div>"
      ],
      "text/plain": [
       "   year veracity  count\n",
       "0  2015     fake    273\n",
       "1  2016     fake    397\n",
       "2  2016     real    352\n",
       "3  2017     fake    365\n",
       "4  2017     real    364\n",
       "5  2018     fake      6"
      ]
     },
     "execution_count": 6,
     "metadata": {},
     "output_type": "execute_result"
    }
   ],
   "source": [
    "# We'll first create a new column for the year using .DatetimeIndex() to extract the year.\n",
    "trends['year'] = pd.DatetimeIndex(trends['date']).year\n",
    "\n",
    "print (trends.head())\n",
    "\n",
    "# We'll then aggregrate the count for each year following a similar approach as above.\n",
    "# By the way, when you write over a dataframe, you might have to restart the notebook over if you make a mistake.\n",
    "yearly_trends = trends \\\n",
    "    .groupby(['year', 'veracity']) \\\n",
    "    .size() \\\n",
    "    .to_frame('count') \\\n",
    "    .reset_index()\n",
    "\n",
    "yearly_trends"
   ]
  },
  {
   "cell_type": "markdown",
   "metadata": {},
   "source": [
    "## More Advance Visualizations\n",
    "\n",
    "With our data condensed to yearly rates of fake and real news, we can make visualizations that highlight these trends more effectively."
   ]
  },
  {
   "cell_type": "code",
   "execution_count": 7,
   "metadata": {},
   "outputs": [
    {
     "data": {
      "image/png": "[encoded data removed]",
      "text/plain": [
       "<Figure size 432x288 with 1 Axes>"
      ]
     },
     "metadata": {
      "needs_background": "light"
     },
     "output_type": "display_data"
    }
   ],
   "source": [
    "ax = sns.barplot(data=yearly_trends, x=\"year\", y=\"count\", hue=\"veracity\")"
   ]
  },
  {
   "cell_type": "markdown",
   "metadata": {},
   "source": [
    "While this bar graph is just as simple to create as the one above, we can start to see our data differently. We become instantly aware of how our data breaks down. It's worth asking now (before we start text analysis) whether it matters that we don't have any real news in 2015 or 2018. Do we want to limit our data so that fake and real news discuss concurrent events? Or, do we want to use everything?\n",
    "\n",
    "Thinking about visualization early in a text analysis project can help clarify these holistic questions. I find that it's useful imagining how data might appear in visualizations early as a way to think about what questions are more productive."
   ]
  },
  {
   "cell_type": "code",
   "execution_count": 10,
   "metadata": {},
   "outputs": [
    {
     "data": {
      "image/png": "[encoded data removed]",
      "text/plain": [
       "<Figure size 432x288 with 1 Axes>"
      ]
     },
     "metadata": {
      "needs_background": "light"
     },
     "output_type": "display_data"
    }
   ],
   "source": [
    "ax = sns.scatterplot(data=trends, x=\"date\", y=\"count\", hue=\"veracity\")"
   ]
  },
  {
   "cell_type": "markdown",
   "metadata": {},
   "source": [
    "We can see a few things by comparing these visualizations. The first is that although both represent the \"same\" data, they tell very different stories. Aggregating articles by year indicates that real and fake news publish in parity (at least within our corpus). Aggregating by day, on the other hand, suggests that real articles outpaced fake articles towards the end of \n",
    "\n",
    "While it's tempting to read reasons for this into the data (maybe real news started publishing more frequently as a result; maybe fake news was a known problem and actively blocked), we're not in a position to draw conclusions yet. Again, to make conclusions, we would need to have better domain knowledge of fake and real news (as well as a more balanced and intentionally curated dataset)."
   ]
  },
  {
   "cell_type": "markdown",
   "metadata": {},
   "source": [
    "# Exercises\n",
    "\n",
    "Count and visualize the number of publication places (i.e. WASHINGTON or SEATTLE/WASHINGTON)."
   ]
  },
  {
   "cell_type": "code",
   "execution_count": null,
   "metadata": {},
   "outputs": [],
   "source": []
  }
 ],
 "metadata": {
  "kernelspec": {
   "display_name": "Python 3",
   "language": "python",
   "name": "python3"
  },
  "language_info": {
   "codemirror_mode": {
    "name": "ipython",
    "version": 3
   },
   "file_extension": ".py",
   "mimetype": "text/x-python",
   "name": "python",
   "nbconvert_exporter": "python",
   "pygments_lexer": "ipython3",
   "version": "3.7.3"
  }
 },
 "nbformat": 4,
 "nbformat_minor": 4
}
