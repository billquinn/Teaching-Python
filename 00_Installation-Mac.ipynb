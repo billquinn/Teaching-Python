{
 "cells": [
  {
   "cell_type": "markdown",
   "metadata": {},
   "source": [
    "# Introduction\n",
    "\n",
    "This first tutorial will walk through the steps of installing Python and Jupyter Notebook with Anaconda.\n",
    "\n",
    "1. Anaconda\n",
    "2. Jupyter Notebook\n",
    "3. Installing Libraries in Terminal\n",
    "4. Creating a Notebook\n",
    "\n",
    "This file and the repository, which is essentially a collection of files, it belongs to are designed for learning Python from scratch. This repository begins with downloading an environment to code: Python, Jupyter Notebook, and Anaconda. By the end, coders will hopefully be able to use advance tools for text and data analysis.\n",
    "\n",
    "The code here is not meant to be a comprehensive lesson plan for learning everything about Python. Much of what we learn about Python will happen through questions and discussion we have in class. Also, I don't think of learning Python (or any code) as a matter of memorization. It's far more important to know how to find solutions to puzzling errors. With that in mind, the notebooks here will hopefully provide you with enough instructions to get you off the ground.\n",
    "\n",
    "The repository also serves as a self-sufficient work environment. Once the repository is downloaded onto your  computer, which I'll explain below, you should be able to use run all the code locally without too many problems (there are always issues when learning and using code, unfortunately). If you want to apply this code to your own datasets, the notebooks here will hopefully provide enough of a template.\n",
    "\n",
    "\n",
    "## Downloading Repository\n",
    "\n",
    "The simplest way to download the repository is to go to https://github.com/billquinn/... click \"Clone or download\" and then \"Download ZIP.\" This will download to directory of files to your computer.\n",
    "\n",
    "Before opening the ZIP file, I recommend you move it to a location you'd prefer to work in. Considering file organization will save you headaches later when you're working with file paths. For example, I have all of my code in a \"DH\" folder on my Desktop (the only folder I keep there). Within that folder, I have subfolders for Python and subfolders within that for Python-based projects. Having a file structure that makes sense to you will make writing file paths much easier.\n",
    "\n",
    "If you are familiar with GitHub, then most of this is probably not new for you and cloning the repository will make the most sense.\n",
    "\n",
    "Like teaching in general, this will be a perpetual work in progress. I would appreciate any and all feedback and hope to improve this over time.\n",
    "\n",
    "## 1. Installing Anaconda\n",
    "\n",
    "Anaconda is a distribution platform that manages a working environment on your computer to use Python and deploy various libraries and packages. These libraries are housed within your computer and, in order to work, they require roadmaps so they can find and communicate with each other. Computer programs and languages rely on a stable path structure in order to communicate between different parts. Anaconda facilitates these conversations, allowing you to focus on coding rather than trouble-shooting technical aspects like getting Python to find a specific library package.\n",
    "\n",
    "Although I'll provide instructions for downloading Anaconda below, their documentation is very useful: https://docs.anaconda.com/anaconda/install/."
   ]
  },
  {
   "cell_type": "markdown",
   "metadata": {},
   "source": [
    "#### Instructions for macOS\n",
    "\n",
    "1. Go to https://www.anaconda.com/distribution/#macos.\n",
    "  * Scroll down a little and click \"download\" beneath \"Python 3.7 version.\"\n",
    "2. Follow the installation prompt.\n",
    "  * You do NOT need to download PyCharm because we won't be using it.\n",
    "3. You can check that Anaconda was successfully downloaded in two ways:\n",
    "  * Check for an \"Anaconda-Navigator\" shortcut in your Applications folder in Finder.<br>\n",
    "  ![image of anaconda shortcut](images/anaconda-shortcut.png)\n",
    "  <br>\n",
    "  * Or, in your Terminal, which is in Applications/Utilities, type \"conda list anaconda\" and hit enter. You should see something similar to<br>\n",
    "  ![image of conda version in terminal](images/anaconda-version-terminal.png)\n",
    "  <br>\n",
    "  \n",
    "Once Anaconda is downloaded, I find that I rarely need to interact with it other than to download new libaries (discussed below) or to update it."
   ]
  },
  {
   "cell_type": "markdown",
   "metadata": {},
   "source": [
    "## 2. Jupyter Notebook\n",
    "\n",
    "Jupyter Notebook is a workspace we can use to write code and comments. Jupyter allows users to write in \"cells,\" which can then execute code in Python (and other languages). \n",
    "\n",
    "Once you download Anaconda, you'll be able to open and use Jupyter Notebook. You can access Jupyter Notebook by opening the Anaconda-Navigator and then launching Jupyter Notebook. This route will open your default web browser with a folder structure.\n",
    "\n",
    "![image of anaconda desktop application](images/launch-anaconda.png)\n",
    "\n",
    "You can alternatively open Jupyter Notebook with the Terminal. If you open Terminal, you can navigate through your computer using \"cd\" (for change directory) followed by the file path. For example, when I open the Terminal, I type \"cd Desktop/DH/Python\" then hit enter to move to the Python file (image below). You can hit tab to auto-complete the folder name if there is no ambiguity; that is, I can hit tab after \"cd De.\" The navigator won't decide between \"Documents\" or \"Desktop\" without the letter \"e.\" Additionally, if I go to far into the file structure, I can type \"cd ..\" to move back up the folder structure. Lastly, \"ls\" will list all the items within the immediate folder.\n",
    "\n",
    "![image of folder navigation and launching jupyter notebook](images/launch-notebook.png)\n",
    "\n",
    "Finally, to open Jupyter Notebook, I just need to type \"jupyter notebook\" and hit enter. When I'm done with work and want to close Terminal (it must stay open while I'm using jupyter), I click on the terminal running the notebook and hit Control + C twice to end it."
   ]
  },
  {
   "cell_type": "markdown",
   "metadata": {},
   "source": [
    "## 3. Installing Libraries in Terminal"
   ]
  },
  {
   "cell_type": "markdown",
   "metadata": {},
   "source": [
    "While Python has a base code, code you don't libraries for, it is often easier to use library packages that have preset functions and features.\n",
    "\n",
    "Installing libraries is very easy with Anaconda. When I find a library that seems promising, I first usually do a quick internet search. For example, I would search \"conda install pandas\" if I wanted to find how to install the Pandas library, which I use constantly. The first result is from https://anaconda.org/anaconda/pandas. There, I see the instructions for installing: conda install -c anaconda pandas.\n",
    "\n",
    "![image of pandas install instruction](images/pandas-install-instr.png)\n",
    "\n",
    "In a new terminal (if you are currently using a terminal to run jupyter notebook), you just need to type \"conda install -c anaconda pandas\" and hit enter.\n",
    "\n",
    "![image of pandas terminal installation](images/pandas-install.png)\n",
    "\n",
    "After typing this in your terminal, you'll be given a report on installation (possible dependencies you might need) and the size of the complete installation. You'll also be asked to confirm this download, which you can by typing \"y\" and hitting enter.\n",
    "\n",
    "You'll be installing multiple libraries throughout this course and can use this tutorial as a refresher. But, it would probably be easier to do a quick internet search for \"conda install\" and the package. A significant portion of coding is simply looking online for an example that you're trying to accomplish. Copying code is not only a common practice, but is considered good practice. If you do find code online, I only recommend that you handkey each line rather than copying and pasting. Handkeying is slower but will help with retention and debugging."
   ]
  },
  {
   "cell_type": "markdown",
   "metadata": {},
   "source": [
    "## 4. Creating a Notebook\n",
    "\n",
    "Once you've downloaded anaconda (and a library), you can now create a notebook. In the top right corner, there is a \"New\" drop-down menu. Within that, you should see, \"Python 3.\"\n",
    "\n",
    "![image of jupyter notebook new Python 3](images/new-notebook.png)\n",
    "\n",
    "There are many components and menus within a notebook. Moving from top to bottom, the arrows point at three of the most useful aspects to know right away:\n",
    "\n",
    "1. Title: you can change the name from \"Untitled\" to a filename that makes more sense.\n",
    "2. Code: this dropdown menu allows you to change the behaviors of each cell. This will be important for the next notebook.\n",
    "3. Cell: each grey, horizontal block is a \"cell\" where you can type and run your code.\n",
    "\n",
    "![image of notebook components](images/notebook-components.png)\n",
    "\n",
    "Once you've created a notebook, you should see one cell to write your code. If you want to add more cells, you can  click on \"Insert\" just below the title. There, you'll see the option to add a cell above or below the cell you have currently selected."
   ]
  },
  {
   "cell_type": "code",
   "execution_count": null,
   "metadata": {},
   "outputs": [],
   "source": []
  }
 ],
 "metadata": {
  "kernelspec": {
   "display_name": "Python 3",
   "language": "python",
   "name": "python3"
  },
  "language_info": {
   "codemirror_mode": {
    "name": "ipython",
    "version": 3
   },
   "file_extension": ".py",
   "mimetype": "text/x-python",
   "name": "python",
   "nbconvert_exporter": "python",
   "pygments_lexer": "ipython3",
   "version": "3.8.3"
  }
 },
 "nbformat": 4,
 "nbformat_minor": 4
}
