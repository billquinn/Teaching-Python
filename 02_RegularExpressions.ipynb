{
 "cells": [
  {
   "cell_type": "markdown",
   "metadata": {},
   "source": [
    "# Regular Expressions (Regex)\n",
    "\n",
    "Regular Expressions refer to an abstract and describe language. For example, regex provides a way to distinguish between upper- and lower-case alphabetical characters [A-z] and numerical characters [0-9]. This formal description of language makes it possible to perform powerful functions on text, especially for cleaning and extracting data, and can help avoid manually handkeying changes.\n",
    "\n",
    "We might define a word as any string of characters separated by white space on either side using regex. But, looking at the previous sentence, this regex pattern will condiser \"regex.\" as a word rather than \"regex\" because \".\" is a non-space character. Dates are also recognizable patterns, 04-12-2010. Here, we might formalize year as four digit characters followed by a hyphen. When we begin working with data, we can use regex to clean up text columns or even extract years from date columns. There are many, many more uses of regex.\n",
    "\n",
    "Rather than try to memorize regular expressions, it is perhaps better to find reliable cheat sheets that are useful for referancing. Below, we will cover the basics of regular expressions. But, if you ever need to test regular expressions before running codes, which can take awhile, or just want a quick reference guide, I recommend using Pythex (https://pythex.org/). While this tutorial will only cover the basics, there are also many sophisticated regular expressions available online.\n",
    "\n",
    "## Basic Operators\n",
    "### *,  +,  ?\n",
    "\n",
    "* \\* [asterisk] matches the preceding character 0 or more times\n",
    "* \\+ [plus sign] matches the preceding character 1 or more times\n",
    "* ? [question mark] matches the preceding character 0 or 1 time\n",
    "\n",
    "### Range [ ]\n",
    "\n",
    "Square brackets allow you to search for a range of possibilities. \"Color\" may or may not have a \"u\" depending on whether it's an American or British spelling. To account for various possibilities, you can use \"colo[u]\\*r,\" which says there may be a \"u\" there (once) or may not be (zero times).\n",
    "\n",
    "### Groups ( )\n",
    "\n",
    "It can also be useful to declare a group within a regex pattern. Setting parenthesis around a pattern will tell regex to set that match as its own group. This can be useful if you want to return something within a match. For example, assuming you have the date mentioned earlier, 04-12-2010, you might return the year with the following regex:\n",
    "\n",
    "* [0-9]+-[0-9]+-([0-9]+)\n",
    "\n",
    "### Exact Occurrences\n",
    "\n",
    "Sometimes, like a year, you know exactly how many occurrences to expect. If you want to be more specific than the basic operators (\\*, +, ?), you can use squiggly brackets { }. Assuming you know every four numbers in a row is a year, you might use the following regex.\n",
    "\n",
    "* [0-9]{4}\n",
    "\n",
    "### Match Any\n",
    "\n",
    "The period '.' matches any character. This special character can be used with '\\*' (match 0 or more times) to match the entire text (.\\*).\n",
    "\n",
    "## Escape Characters\n",
    "\n",
    "But, what if you want to match an actual period or a question mark? Because these characters perform certain functions, it is necessary to \"escape\" them if you want to use them. Putting a backslash, \"\\\\\", in front a special character will tell computers to recognize that character as a regular character. For instance, if you encounter a plus sign (\"+\") in a text and you want to match it, then you'll need to escape it with a second backslash: \"\\\\+\".\n",
    "\n",
    "## Special Sequences\n",
    "\n",
    "While these basic operators will form the basis of regex, there are other sequences that can be useful as well. This list does not cover every special sequence but will cover the most common.\n",
    "\n",
    "### Numbers\n",
    "* \\\\d = any digit\n",
    "* \\\\D = any non-digit\n",
    "\n",
    "If we consider our regex for year, we might re-write that as (\\\\d){4}, which conveys a group of digits exactly four characters in length.\n",
    "\n",
    "### Alphanumeric\n",
    "* \\\\w = any alphanumeric (0-9 and A-z); A-z indicates any upper- or lowercase letter.\n",
    "* \\\\W = any non-alphanumeric (such as punctuation)\n",
    "\n",
    "### Whitespace\n",
    "* \\\\s = any whitespace\n",
    "* \\\\S = non-whitespace\n",
    "\n",
    "There are more ways to identify more specific whitespaces. Some of the more common examples are\n",
    "* \\\\t = tabs\n",
    "* \\\\n = newlines\n",
    "\n",
    "This tutorial, of course, only covers the very basics of regular expressions. There are much more sophisticated examples online that may prove useful for your own data cleaning. Regex is a powerful tool that you may use throughout your coding practices. \n",
    "____\n",
    "\n",
    "Sources:\n",
    "\n",
    "1. Schmidt, Ben. Regex worksheet from Humanities Data Analysis, 2015.\n",
    "2. *Pythex*, a regular expression tester. https://pythex.org/."
   ]
  },
  {
   "cell_type": "markdown",
   "metadata": {},
   "source": [
    "# Regex Workshop\n",
    "\n",
    "There are a couple of useful libraries to help use regex in Python: re and string.\n",
    "> To install re using conda, open a new terminal:<br>\n",
    "> Type: conda install -c conda-forge regex\n",
    "\n",
    "Before we can use the library \"re,\" we have to import the library. Importing libraries tells Python to retrieve their built-in functions."
   ]
  },
  {
   "cell_type": "code",
   "execution_count": 1,
   "metadata": {},
   "outputs": [],
   "source": [
    "import re"
   ]
  },
  {
   "cell_type": "markdown",
   "metadata": {},
   "source": [
    "Although there is no output or update beneath the cell after running \"import re,\" we can now use it. First, though, we need a string to work with. Continuing with our date example, we can use the regex we created earlier to extract the year."
   ]
  },
  {
   "cell_type": "code",
   "execution_count": 16,
   "metadata": {},
   "outputs": [
    {
     "data": {
      "text/plain": [
       "'2010'"
      ]
     },
     "execution_count": 16,
     "metadata": {},
     "output_type": "execute_result"
    }
   ],
   "source": [
    "# First, we'll create a string variable named date.\n",
    "date = \"04-12-2010\"\n",
    "\n",
    "# We can then find the year using re and our regular expression.\n",
    "re.search(r'\\d{4}', date).group(0)"
   ]
  },
  {
   "cell_type": "markdown",
   "metadata": {},
   "source": [
    "There are a few things happening in the last line of the previous cell that are not obvious. Moving left to right, I'll explain what that line of code does.\n",
    "\n",
    "#### re.search\n",
    "\n",
    "Re.search() is doing two things in unison. Essentially, we are calling the \"search\" function. But, other libraries might have a search() function as well. So, we clarify that we want the re.search() by writing re. beforehand.\n",
    "\n",
    "#### (r'\\d{4}', date)\n",
    "\n",
    "r'\\d{4}' is our regular expression. I sometimes add an 'r' before the quotation marks to specify that the string I'm searching for is a regex. This is probably unnecessary for re, but other libraries tend to work better with it, so I've made it a habit. \n",
    "\n",
    "Our regular expression is also the first \"argument\" of the function. Some functions require multiple arguments so that it understands how to behave. Re.search takes two arguments: the regex and the string in which to look for the regex. The second argument, then, is the string we expect to find our regular expression.\n",
    "\n",
    "#### .group(0)\n",
    "\n",
    "Re.search does not return a string object on its own. Without group(0), re.search will return a \"Match\" object. By adding .group(0), we're telling re.search to return the first matched text within the \"Match\" object, which is our year.\n",
    "\n",
    "As a note, I find that I'm constantly having to look up how \"re\" works. It can seem a little finicky without using it regularly. It is completely normal to have to look up how something works in Python even if you've used it hundreds of times."
   ]
  },
  {
   "cell_type": "markdown",
   "metadata": {},
   "source": [
    "## Multiple Matches\n",
    "\n",
    "Let's say we're trying to gather more complex sets of data than a single year, though. Re provides a way to return a list of matches. For example, what if we want to discover all the words that begin with a capitalized letter?"
   ]
  },
  {
   "cell_type": "code",
   "execution_count": 18,
   "metadata": {},
   "outputs": [
    {
     "data": {
      "text/plain": [
       "['Money',\n",
       " 'Bootleggers',\n",
       " 'Ballooned',\n",
       " 'Cadillacs',\n",
       " 'Whizzing',\n",
       " 'Seventh',\n",
       " 'Street',\n",
       " 'Cane',\n",
       " 'Jean',\n",
       " 'Toomer']"
      ]
     },
     "execution_count": 18,
     "metadata": {},
     "output_type": "execute_result"
    }
   ],
   "source": [
    "# First we need a string.\n",
    "# Here, I'll use three-single quotation marks at the beginning and end to create a string block.\n",
    "blockstring = '''\n",
    "\"Money burns the pocket, pocket hurts,\n",
    "Bootleggers in silken shirts,\n",
    "Ballooned, zooming Cadillacs,\n",
    "Whizzing, whizzing down the street-car tracks.\"\n",
    "\n",
    "\"Seventh Street,\" Cane, Jean Toomer.\n",
    "'''\n",
    "\n",
    "# We're using a slightly different re function here.\n",
    "# re.findall() will return a list object of matches.\n",
    "# Like re.search, re.findall takes two arguments.\n",
    "re.findall(r'[A-Z]+[a-z]*', blockstring)"
   ]
  },
  {
   "cell_type": "markdown",
   "metadata": {},
   "source": [
    "#### Function & Arguments\n",
    "\n",
    "Much like our earlier example, this regex function takes two arguments: the regex and the text we expect to find that regex.\n",
    "\n",
    "#### r'[A-Z]+[a-z]*'\n",
    "\n",
    "We can break down our regex into two components.\n",
    "\n",
    "1. The first part ([A-Z]+) looks for an uppercase letter that appears one or more times. \n",
    "2. The second part ([a-z]\\*) looks for any lowercase letter that appears any number of times.\n",
    "\n",
    "Together, both parts look for a string of alphabetical characters (and nothing else) that starts with at least one uppercase letter. If, for example, there was a typo, and the first line read: \"MOney burns...,\" re.findall would return 'MOney' because it follows the two rules we have set.\n",
    "\n",
    "Try changing this regular expression below by using different operators to see how slight changes can quickly change the output."
   ]
  },
  {
   "cell_type": "code",
   "execution_count": 24,
   "metadata": {
    "scrolled": true
   },
   "outputs": [
    {
     "data": {
      "text/plain": [
       "['Money',\n",
       " 'Bootleggers',\n",
       " 'Ballooned',\n",
       " 'Cadillacs',\n",
       " 'Whizzing',\n",
       " 'Seventh',\n",
       " 'Street',\n",
       " 'Cane',\n",
       " 'Jean',\n",
       " 'Toomer']"
      ]
     },
     "execution_count": 24,
     "metadata": {},
     "output_type": "execute_result"
    }
   ],
   "source": [
    "re.findall(r'[A-Z]+[a-z]*', blockstring)\n",
    "\n",
    "# Note, you can change the appearance of the output data by clicking the left margin underneath \"Out[...].\""
   ]
  },
  {
   "cell_type": "markdown",
   "metadata": {},
   "source": [
    "#### Unstructured Data\n",
    "\n",
    "You may have noticed that blockstring is not just a poem\\*, properly speaking. The string contains the poem, which \"ends\" with \"tracks,\" but then we get bibliographic information, such as the title and author. While the distinction between poetry and bibliographic information might be clear to us, the regular expression cannot differentiate between the two. Instead, it sees all of this information as a single string and, therefore, returns matches that do not belong only in the poem.\n",
    "\n",
    "This string of text can be considered unstructured data. It is unstructured because there is no metadata (data that describes different categories of data, like poem or bibliography). If we only wanted to return capitalized words within the poem, we would have to re-write our regular expression.\n",
    "\n",
    "\\*Technically, \"Seventh Street,\" is a prose-poem hybrid that does not fit into a generic definition. The part I've copied here is only part of the entire work."
   ]
  },
  {
   "cell_type": "markdown",
   "metadata": {},
   "source": [
    "## Conclusion\n",
    "\n",
    "Regular Expressions are very powerful tools for cleaning, finding, and extracting information. Learning how they work and the ways they might fail is incredibly important. Regular expressions are often used when someone wants to make changes to a large portion of text, too large to curate by hand. That means that the regex writer, if not careful, can introduce errors into a data set by trying to clean up a few examples. It is always a good idea to test out and review any regular expressions that you use. And, again, the internet has plenty of sophisticated regular expressions available--just be careful those changes work with (and not against) your particular data set."
   ]
  },
  {
   "cell_type": "markdown",
   "metadata": {},
   "source": [
    "____\n",
    "\n",
    "## Exercises"
   ]
  },
  {
   "cell_type": "code",
   "execution_count": 25,
   "metadata": {},
   "outputs": [],
   "source": [
    "# Using the \"blockstring\" variable above, return only capitalized words that appear in the poem.\n",
    "# Remember, it is good practice to handkey your re.findall function below to gain muscle memory.\n"
   ]
  },
  {
   "cell_type": "code",
   "execution_count": null,
   "metadata": {},
   "outputs": [],
   "source": [
    "# Now, try returning all the words (capitalized and uncapitalized) outside of the poem.\n"
   ]
  }
 ],
 "metadata": {
  "kernelspec": {
   "display_name": "Python 3",
   "language": "python",
   "name": "python3"
  },
  "language_info": {
   "codemirror_mode": {
    "name": "ipython",
    "version": 3
   },
   "file_extension": ".py",
   "mimetype": "text/x-python",
   "name": "python",
   "nbconvert_exporter": "python",
   "pygments_lexer": "ipython3",
   "version": "3.7.3"
  }
 },
 "nbformat": 4,
 "nbformat_minor": 4
}
