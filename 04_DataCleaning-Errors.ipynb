{
 "cells": [
  {
   "cell_type": "markdown",
   "metadata": {},
   "source": [
    "# Data Cleaning & Error Reports\n",
    "\n",
    "While preparing the next notebook, I realized that the data was not as clean as it should be. This notebook is dedicated to cleaning on problem, specifically the date column that contains different formats of dates and some non-dates. We'll want to have a single standard for our dates and mark any rows that have misclassified data fields. \n",
    "\n",
    "It is often said that cleaning data is by far the most time consuming part of text analysis. Also, as I mentioned, I didn't notice this problem until the Counting and Visualization notebook. It was a good reminder for me that text analysis is not a linear process. Data cleaning is very recursive, and you'll likely find that you make tweaks and changes throughout your work.\n",
    "\n",
    "### Goals\n",
    "\n",
    "1. Convert date field to a standard datetime.\n",
    "2. Gain familiarity with troubleshooting errors and using Stack Overflow.\n",
    "\n",
    "This notebook will try to showcase the errors that I encounter while trying to clean. This might seem more cluttered than finding the right code online and applying to the notebook. I want to include the errors and hopefully show my thought process as I try to solve them. There are multiple ways of solving coding errors and can often be a creative process. My solutions below are by no means prescriptive. My hope with this notebook is to provide you with some guidance to deal with the messier aspects of data cleaning and reading error reports."
   ]
  },
  {
   "cell_type": "code",
   "execution_count": 1,
   "metadata": {},
   "outputs": [],
   "source": [
    "import re\n",
    "import pandas as pd\n",
    "\n",
    "abs_dir = \"/Users/williamquinn/Desktop/DH/Python/Teaching/Python-Notebooks/\""
   ]
  },
  {
   "cell_type": "code",
   "execution_count": 2,
   "metadata": {},
   "outputs": [
    {
     "name": "stdout",
     "output_type": "stream",
     "text": [
      "title       object\n",
      "text        object\n",
      "subject     object\n",
      "date        object\n",
      "veracity    object\n",
      "dtype: object\n"
     ]
    },
    {
     "data": {
      "text/html": [
       "<div>\n",
       "<style scoped>\n",
       "    .dataframe tbody tr th:only-of-type {\n",
       "        vertical-align: middle;\n",
       "    }\n",
       "\n",
       "    .dataframe tbody tr th {\n",
       "        vertical-align: top;\n",
       "    }\n",
       "\n",
       "    .dataframe thead th {\n",
       "        text-align: right;\n",
       "    }\n",
       "</style>\n",
       "<table border=\"1\" class=\"dataframe\">\n",
       "  <thead>\n",
       "    <tr style=\"text-align: right;\">\n",
       "      <th></th>\n",
       "      <th>title</th>\n",
       "      <th>text</th>\n",
       "      <th>subject</th>\n",
       "      <th>date</th>\n",
       "      <th>veracity</th>\n",
       "    </tr>\n",
       "  </thead>\n",
       "  <tbody>\n",
       "    <tr>\n",
       "      <th>0</th>\n",
       "      <td>As U.S. budget fight looms, Republicans flip t...</td>\n",
       "      <td>WASHINGTON (Reuters) - The head of a conservat...</td>\n",
       "      <td>politicsNews</td>\n",
       "      <td>December 31, 2017</td>\n",
       "      <td>real</td>\n",
       "    </tr>\n",
       "    <tr>\n",
       "      <th>1</th>\n",
       "      <td>U.S. military to accept transgender recruits o...</td>\n",
       "      <td>WASHINGTON (Reuters) - Transgender people will...</td>\n",
       "      <td>politicsNews</td>\n",
       "      <td>December 29, 2017</td>\n",
       "      <td>real</td>\n",
       "    </tr>\n",
       "    <tr>\n",
       "      <th>2</th>\n",
       "      <td>Senior U.S. Republican senator: 'Let Mr. Muell...</td>\n",
       "      <td>WASHINGTON (Reuters) - The special counsel inv...</td>\n",
       "      <td>politicsNews</td>\n",
       "      <td>December 31, 2017</td>\n",
       "      <td>real</td>\n",
       "    </tr>\n",
       "    <tr>\n",
       "      <th>3</th>\n",
       "      <td>FBI Russia probe helped by Australian diplomat...</td>\n",
       "      <td>WASHINGTON (Reuters) - Trump campaign adviser ...</td>\n",
       "      <td>politicsNews</td>\n",
       "      <td>December 30, 2017</td>\n",
       "      <td>real</td>\n",
       "    </tr>\n",
       "    <tr>\n",
       "      <th>4</th>\n",
       "      <td>Trump wants Postal Service to charge 'much mor...</td>\n",
       "      <td>SEATTLE/WASHINGTON (Reuters) - President Donal...</td>\n",
       "      <td>politicsNews</td>\n",
       "      <td>December 29, 2017</td>\n",
       "      <td>real</td>\n",
       "    </tr>\n",
       "  </tbody>\n",
       "</table>\n",
       "</div>"
      ],
      "text/plain": [
       "                                               title  \\\n",
       "0  As U.S. budget fight looms, Republicans flip t...   \n",
       "1  U.S. military to accept transgender recruits o...   \n",
       "2  Senior U.S. Republican senator: 'Let Mr. Muell...   \n",
       "3  FBI Russia probe helped by Australian diplomat...   \n",
       "4  Trump wants Postal Service to charge 'much mor...   \n",
       "\n",
       "                                                text       subject  \\\n",
       "0  WASHINGTON (Reuters) - The head of a conservat...  politicsNews   \n",
       "1  WASHINGTON (Reuters) - Transgender people will...  politicsNews   \n",
       "2  WASHINGTON (Reuters) - The special counsel inv...  politicsNews   \n",
       "3  WASHINGTON (Reuters) - Trump campaign adviser ...  politicsNews   \n",
       "4  SEATTLE/WASHINGTON (Reuters) - President Donal...  politicsNews   \n",
       "\n",
       "                 date veracity  \n",
       "0  December 31, 2017      real  \n",
       "1  December 29, 2017      real  \n",
       "2  December 31, 2017      real  \n",
       "3  December 30, 2017      real  \n",
       "4  December 29, 2017      real  "
      ]
     },
     "execution_count": 2,
     "metadata": {},
     "output_type": "execute_result"
    }
   ],
   "source": [
    "data = pd.read_csv(abs_dir + \"data/fake-and-real-news-dataset/True.csv\", sep = \",\")\n",
    "\n",
    "data['veracity'] = \"real\"\n",
    "\n",
    "# We are creating a new variable for our data called \"fake\" with pd.read_csv.\n",
    "fake = pd.read_csv(abs_dir + \"data/fake-and-real-news-dataset/Fake.csv\", sep = \",\")\n",
    "\n",
    "# Assuming the columns are the same in both files, \n",
    "# we'll want to add another column value to indicate this is fake news\n",
    "fake['veracity'] = 'fake'\n",
    "\n",
    "# We will now override our \"data\" variable by joining the original \"data\" with our \"fake\" data.\n",
    "data = pd.concat([data, fake], axis=0, sort=False)\n",
    "\n",
    "print (data.dtypes)\n",
    "data.head()"
   ]
  },
  {
   "cell_type": "markdown",
   "metadata": {},
   "source": [
    "## Converting Longform of Dates to Datetime\n",
    "From our glimpse of the data, we might think that our date field is uniform. Each entry has the same pattern: a month (string) day (numeric), and year (numeric). For starters, we will want to convert the date-as-string to a recognizable datetime. To do this, we'll use the pandas function .to_datetime(). A datetime allows us to order information chronologically. A basic string does not provide any computational information to do that.\n",
    "\n",
    "I'm unfamiliar with converting month names to datetimes. Instead of testing this code on the entire dataset where I know there are errors, I'll first test this convertion on a smaller test set."
   ]
  },
  {
   "cell_type": "code",
   "execution_count": 3,
   "metadata": {},
   "outputs": [
    {
     "data": {
      "text/html": [
       "<div>\n",
       "<style scoped>\n",
       "    .dataframe tbody tr th:only-of-type {\n",
       "        vertical-align: middle;\n",
       "    }\n",
       "\n",
       "    .dataframe tbody tr th {\n",
       "        vertical-align: top;\n",
       "    }\n",
       "\n",
       "    .dataframe thead th {\n",
       "        text-align: right;\n",
       "    }\n",
       "</style>\n",
       "<table border=\"1\" class=\"dataframe\">\n",
       "  <thead>\n",
       "    <tr style=\"text-align: right;\">\n",
       "      <th></th>\n",
       "      <th>title</th>\n",
       "      <th>text</th>\n",
       "      <th>subject</th>\n",
       "      <th>date</th>\n",
       "      <th>veracity</th>\n",
       "    </tr>\n",
       "  </thead>\n",
       "  <tbody>\n",
       "    <tr>\n",
       "      <th>2789</th>\n",
       "      <td>Online ads offer legal option for U.S. electio...</td>\n",
       "      <td>SAN FRANCISCO (Reuters) - The laws that prohib...</td>\n",
       "      <td>politicsNews</td>\n",
       "      <td>July 13, 2017</td>\n",
       "      <td>real</td>\n",
       "    </tr>\n",
       "    <tr>\n",
       "      <th>10525</th>\n",
       "      <td>SARAH HUCKABEE SANDERS Calls Out Fake News…Rep...</td>\n",
       "      <td>A screaming White House reporter stood up and ...</td>\n",
       "      <td>politics</td>\n",
       "      <td>Jun 28, 2017</td>\n",
       "      <td>fake</td>\n",
       "    </tr>\n",
       "    <tr>\n",
       "      <th>2862</th>\n",
       "      <td>Trump Just Threatened To ‘Send In The Feds’ T...</td>\n",
       "      <td>Holy f*ckballs, it hasn t even been a week sin...</td>\n",
       "      <td>News</td>\n",
       "      <td>January 24, 2017</td>\n",
       "      <td>fake</td>\n",
       "    </tr>\n",
       "    <tr>\n",
       "      <th>11083</th>\n",
       "      <td>HEY “SIMPLETONS”…We’ve Got Great News! The Lef...</td>\n",
       "      <td>Lauren Southern is one tough reporter. She s n...</td>\n",
       "      <td>politics</td>\n",
       "      <td>Apr 22, 2017</td>\n",
       "      <td>fake</td>\n",
       "    </tr>\n",
       "    <tr>\n",
       "      <th>15944</th>\n",
       "      <td>The Angry Left Attacks Trump for Letting 11-Ye...</td>\n",
       "      <td>President Trump just made an 11-year old boy s...</td>\n",
       "      <td>Government News</td>\n",
       "      <td>Sep 16, 2017</td>\n",
       "      <td>fake</td>\n",
       "    </tr>\n",
       "  </tbody>\n",
       "</table>\n",
       "</div>"
      ],
      "text/plain": [
       "                                                   title  \\\n",
       "2789   Online ads offer legal option for U.S. electio...   \n",
       "10525  SARAH HUCKABEE SANDERS Calls Out Fake News…Rep...   \n",
       "2862    Trump Just Threatened To ‘Send In The Feds’ T...   \n",
       "11083  HEY “SIMPLETONS”…We’ve Got Great News! The Lef...   \n",
       "15944  The Angry Left Attacks Trump for Letting 11-Ye...   \n",
       "\n",
       "                                                    text          subject  \\\n",
       "2789   SAN FRANCISCO (Reuters) - The laws that prohib...     politicsNews   \n",
       "10525  A screaming White House reporter stood up and ...         politics   \n",
       "2862   Holy f*ckballs, it hasn t even been a week sin...             News   \n",
       "11083  Lauren Southern is one tough reporter. She s n...         politics   \n",
       "15944  President Trump just made an 11-year old boy s...  Government News   \n",
       "\n",
       "                   date veracity  \n",
       "2789     July 13, 2017      real  \n",
       "10525      Jun 28, 2017     fake  \n",
       "2862   January 24, 2017     fake  \n",
       "11083      Apr 22, 2017     fake  \n",
       "15944      Sep 16, 2017     fake  "
      ]
     },
     "execution_count": 3,
     "metadata": {},
     "output_type": "execute_result"
    }
   ],
   "source": [
    "# We can use .sample() to chose 5 random rows.\n",
    "# Sample also provides a way to grab a fraction of a dataset: .sample(frac = .1)\n",
    "test = data.sample(n = 5)\n",
    "\n",
    "test"
   ]
  },
  {
   "cell_type": "markdown",
   "metadata": {},
   "source": [
    "With this smaller dataset, we can ensure that our code works on longform dates. This will save us the headache of trying to solve multiple data problems simultaneously.\n",
    "\n",
    "Now, we'll try to convert these dates."
   ]
  },
  {
   "cell_type": "code",
   "execution_count": 4,
   "metadata": {},
   "outputs": [
    {
     "data": {
      "text/html": [
       "<div>\n",
       "<style scoped>\n",
       "    .dataframe tbody tr th:only-of-type {\n",
       "        vertical-align: middle;\n",
       "    }\n",
       "\n",
       "    .dataframe tbody tr th {\n",
       "        vertical-align: top;\n",
       "    }\n",
       "\n",
       "    .dataframe thead th {\n",
       "        text-align: right;\n",
       "    }\n",
       "</style>\n",
       "<table border=\"1\" class=\"dataframe\">\n",
       "  <thead>\n",
       "    <tr style=\"text-align: right;\">\n",
       "      <th></th>\n",
       "      <th>title</th>\n",
       "      <th>text</th>\n",
       "      <th>subject</th>\n",
       "      <th>date</th>\n",
       "      <th>veracity</th>\n",
       "    </tr>\n",
       "  </thead>\n",
       "  <tbody>\n",
       "    <tr>\n",
       "      <th>2789</th>\n",
       "      <td>Online ads offer legal option for U.S. electio...</td>\n",
       "      <td>SAN FRANCISCO (Reuters) - The laws that prohib...</td>\n",
       "      <td>politicsNews</td>\n",
       "      <td>2017-07-13</td>\n",
       "      <td>real</td>\n",
       "    </tr>\n",
       "    <tr>\n",
       "      <th>10525</th>\n",
       "      <td>SARAH HUCKABEE SANDERS Calls Out Fake News…Rep...</td>\n",
       "      <td>A screaming White House reporter stood up and ...</td>\n",
       "      <td>politics</td>\n",
       "      <td>2017-06-28</td>\n",
       "      <td>fake</td>\n",
       "    </tr>\n",
       "    <tr>\n",
       "      <th>2862</th>\n",
       "      <td>Trump Just Threatened To ‘Send In The Feds’ T...</td>\n",
       "      <td>Holy f*ckballs, it hasn t even been a week sin...</td>\n",
       "      <td>News</td>\n",
       "      <td>2017-01-24</td>\n",
       "      <td>fake</td>\n",
       "    </tr>\n",
       "    <tr>\n",
       "      <th>11083</th>\n",
       "      <td>HEY “SIMPLETONS”…We’ve Got Great News! The Lef...</td>\n",
       "      <td>Lauren Southern is one tough reporter. She s n...</td>\n",
       "      <td>politics</td>\n",
       "      <td>2017-04-22</td>\n",
       "      <td>fake</td>\n",
       "    </tr>\n",
       "    <tr>\n",
       "      <th>15944</th>\n",
       "      <td>The Angry Left Attacks Trump for Letting 11-Ye...</td>\n",
       "      <td>President Trump just made an 11-year old boy s...</td>\n",
       "      <td>Government News</td>\n",
       "      <td>2017-09-16</td>\n",
       "      <td>fake</td>\n",
       "    </tr>\n",
       "  </tbody>\n",
       "</table>\n",
       "</div>"
      ],
      "text/plain": [
       "                                                   title  \\\n",
       "2789   Online ads offer legal option for U.S. electio...   \n",
       "10525  SARAH HUCKABEE SANDERS Calls Out Fake News…Rep...   \n",
       "2862    Trump Just Threatened To ‘Send In The Feds’ T...   \n",
       "11083  HEY “SIMPLETONS”…We’ve Got Great News! The Lef...   \n",
       "15944  The Angry Left Attacks Trump for Letting 11-Ye...   \n",
       "\n",
       "                                                    text          subject  \\\n",
       "2789   SAN FRANCISCO (Reuters) - The laws that prohib...     politicsNews   \n",
       "10525  A screaming White House reporter stood up and ...         politics   \n",
       "2862   Holy f*ckballs, it hasn t even been a week sin...             News   \n",
       "11083  Lauren Southern is one tough reporter. She s n...         politics   \n",
       "15944  President Trump just made an 11-year old boy s...  Government News   \n",
       "\n",
       "            date veracity  \n",
       "2789  2017-07-13     real  \n",
       "10525 2017-06-28     fake  \n",
       "2862  2017-01-24     fake  \n",
       "11083 2017-04-22     fake  \n",
       "15944 2017-09-16     fake  "
      ]
     },
     "execution_count": 4,
     "metadata": {},
     "output_type": "execute_result"
    }
   ],
   "source": [
    "test['date'] = pd.to_datetime(test['date'])\n",
    "\n",
    "test"
   ]
  },
  {
   "cell_type": "markdown",
   "metadata": {},
   "source": [
    "Pandas to_datetime() function works very well. It intuitevly recognizes different date formats and converts them properly to a standard date format. For instance, knowing that August and Aug both refer to August is very helpful. In the Coda below, I show how I first attempted to account for this and the errors that caused.\n",
    "\n",
    "## Reading Error Reports\n",
    "\n",
    "With our test case working, we can now try converting the date column in the entire dataframe."
   ]
  },
  {
   "cell_type": "code",
   "execution_count": 5,
   "metadata": {},
   "outputs": [
    {
     "ename": "ParserError",
     "evalue": "Unknown string format: https://100percentfedup.com/served-roy-moore-vietnamletter-veteran-sets-record-straight-honorable-decent-respectable-patriotic-commander-soldier/",
     "output_type": "error",
     "traceback": [
      "\u001b[0;31m---------------------------------------------------------------------------\u001b[0m",
      "\u001b[0;31mTypeError\u001b[0m                                 Traceback (most recent call last)",
      "\u001b[0;32m//anaconda3/lib/python3.7/site-packages/pandas/core/arrays/datetimes.py\u001b[0m in \u001b[0;36mobjects_to_datetime64ns\u001b[0;34m(data, dayfirst, yearfirst, utc, errors, require_iso8601, allow_object)\u001b[0m\n\u001b[1;32m   1978\u001b[0m         \u001b[0;32mtry\u001b[0m\u001b[0;34m:\u001b[0m\u001b[0;34m\u001b[0m\u001b[0;34m\u001b[0m\u001b[0m\n\u001b[0;32m-> 1979\u001b[0;31m             \u001b[0mvalues\u001b[0m\u001b[0;34m,\u001b[0m \u001b[0mtz_parsed\u001b[0m \u001b[0;34m=\u001b[0m \u001b[0mconversion\u001b[0m\u001b[0;34m.\u001b[0m\u001b[0mdatetime_to_datetime64\u001b[0m\u001b[0;34m(\u001b[0m\u001b[0mdata\u001b[0m\u001b[0;34m)\u001b[0m\u001b[0;34m\u001b[0m\u001b[0;34m\u001b[0m\u001b[0m\n\u001b[0m\u001b[1;32m   1980\u001b[0m             \u001b[0;31m# If tzaware, these values represent unix timestamps, so we\u001b[0m\u001b[0;34m\u001b[0m\u001b[0;34m\u001b[0m\u001b[0;34m\u001b[0m\u001b[0m\n",
      "\u001b[0;32mpandas/_libs/tslibs/conversion.pyx\u001b[0m in \u001b[0;36mpandas._libs.tslibs.conversion.datetime_to_datetime64\u001b[0;34m()\u001b[0m\n",
      "\u001b[0;31mTypeError\u001b[0m: Unrecognized value type: <class 'str'>",
      "\nDuring handling of the above exception, another exception occurred:\n",
      "\u001b[0;31mParserError\u001b[0m                               Traceback (most recent call last)",
      "\u001b[0;32m<ipython-input-5-42dcf38d0232>\u001b[0m in \u001b[0;36m<module>\u001b[0;34m\u001b[0m\n\u001b[0;32m----> 1\u001b[0;31m \u001b[0mdata\u001b[0m\u001b[0;34m[\u001b[0m\u001b[0;34m'date'\u001b[0m\u001b[0;34m]\u001b[0m \u001b[0;34m=\u001b[0m \u001b[0mpd\u001b[0m\u001b[0;34m.\u001b[0m\u001b[0mto_datetime\u001b[0m\u001b[0;34m(\u001b[0m\u001b[0mdata\u001b[0m\u001b[0;34m[\u001b[0m\u001b[0;34m'date'\u001b[0m\u001b[0;34m]\u001b[0m\u001b[0;34m)\u001b[0m\u001b[0;34m\u001b[0m\u001b[0;34m\u001b[0m\u001b[0m\n\u001b[0m\u001b[1;32m      2\u001b[0m \u001b[0;34m\u001b[0m\u001b[0m\n\u001b[1;32m      3\u001b[0m \u001b[0;31m# Spoiler:\u001b[0m\u001b[0;34m\u001b[0m\u001b[0;34m\u001b[0m\u001b[0;34m\u001b[0m\u001b[0m\n\u001b[1;32m      4\u001b[0m \u001b[0;31m# The error is caused by a hyperlink that is in the \"date\" field.\u001b[0m\u001b[0;34m\u001b[0m\u001b[0;34m\u001b[0m\u001b[0;34m\u001b[0m\u001b[0m\n\u001b[1;32m      5\u001b[0m \u001b[0;31m# The error report does not know the value is a working hyperlink.\u001b[0m\u001b[0;34m\u001b[0m\u001b[0;34m\u001b[0m\u001b[0;34m\u001b[0m\u001b[0m\n",
      "\u001b[0;32m//anaconda3/lib/python3.7/site-packages/pandas/util/_decorators.py\u001b[0m in \u001b[0;36mwrapper\u001b[0;34m(*args, **kwargs)\u001b[0m\n\u001b[1;32m    206\u001b[0m                 \u001b[0;32melse\u001b[0m\u001b[0;34m:\u001b[0m\u001b[0;34m\u001b[0m\u001b[0;34m\u001b[0m\u001b[0m\n\u001b[1;32m    207\u001b[0m                     \u001b[0mkwargs\u001b[0m\u001b[0;34m[\u001b[0m\u001b[0mnew_arg_name\u001b[0m\u001b[0;34m]\u001b[0m \u001b[0;34m=\u001b[0m \u001b[0mnew_arg_value\u001b[0m\u001b[0;34m\u001b[0m\u001b[0;34m\u001b[0m\u001b[0m\n\u001b[0;32m--> 208\u001b[0;31m             \u001b[0;32mreturn\u001b[0m \u001b[0mfunc\u001b[0m\u001b[0;34m(\u001b[0m\u001b[0;34m*\u001b[0m\u001b[0margs\u001b[0m\u001b[0;34m,\u001b[0m \u001b[0;34m**\u001b[0m\u001b[0mkwargs\u001b[0m\u001b[0;34m)\u001b[0m\u001b[0;34m\u001b[0m\u001b[0;34m\u001b[0m\u001b[0m\n\u001b[0m\u001b[1;32m    209\u001b[0m \u001b[0;34m\u001b[0m\u001b[0m\n\u001b[1;32m    210\u001b[0m         \u001b[0;32mreturn\u001b[0m \u001b[0mwrapper\u001b[0m\u001b[0;34m\u001b[0m\u001b[0;34m\u001b[0m\u001b[0m\n",
      "\u001b[0;32m//anaconda3/lib/python3.7/site-packages/pandas/core/tools/datetimes.py\u001b[0m in \u001b[0;36mto_datetime\u001b[0;34m(arg, errors, dayfirst, yearfirst, utc, box, format, exact, unit, infer_datetime_format, origin, cache)\u001b[0m\n\u001b[1;32m    772\u001b[0m                 \u001b[0mresult\u001b[0m \u001b[0;34m=\u001b[0m \u001b[0mresult\u001b[0m\u001b[0;34m.\u001b[0m\u001b[0mtz_localize\u001b[0m\u001b[0;34m(\u001b[0m\u001b[0mtz\u001b[0m\u001b[0;34m)\u001b[0m\u001b[0;34m\u001b[0m\u001b[0;34m\u001b[0m\u001b[0m\n\u001b[1;32m    773\u001b[0m     \u001b[0;32melif\u001b[0m \u001b[0misinstance\u001b[0m\u001b[0;34m(\u001b[0m\u001b[0marg\u001b[0m\u001b[0;34m,\u001b[0m \u001b[0mABCSeries\u001b[0m\u001b[0;34m)\u001b[0m\u001b[0;34m:\u001b[0m\u001b[0;34m\u001b[0m\u001b[0;34m\u001b[0m\u001b[0m\n\u001b[0;32m--> 774\u001b[0;31m         \u001b[0mcache_array\u001b[0m \u001b[0;34m=\u001b[0m \u001b[0m_maybe_cache\u001b[0m\u001b[0;34m(\u001b[0m\u001b[0marg\u001b[0m\u001b[0;34m,\u001b[0m \u001b[0mformat\u001b[0m\u001b[0;34m,\u001b[0m \u001b[0mcache\u001b[0m\u001b[0;34m,\u001b[0m \u001b[0mconvert_listlike\u001b[0m\u001b[0;34m)\u001b[0m\u001b[0;34m\u001b[0m\u001b[0;34m\u001b[0m\u001b[0m\n\u001b[0m\u001b[1;32m    775\u001b[0m         \u001b[0;32mif\u001b[0m \u001b[0;32mnot\u001b[0m \u001b[0mcache_array\u001b[0m\u001b[0;34m.\u001b[0m\u001b[0mempty\u001b[0m\u001b[0;34m:\u001b[0m\u001b[0;34m\u001b[0m\u001b[0;34m\u001b[0m\u001b[0m\n\u001b[1;32m    776\u001b[0m             \u001b[0mresult\u001b[0m \u001b[0;34m=\u001b[0m \u001b[0marg\u001b[0m\u001b[0;34m.\u001b[0m\u001b[0mmap\u001b[0m\u001b[0;34m(\u001b[0m\u001b[0mcache_array\u001b[0m\u001b[0;34m)\u001b[0m\u001b[0;34m\u001b[0m\u001b[0;34m\u001b[0m\u001b[0m\n",
      "\u001b[0;32m//anaconda3/lib/python3.7/site-packages/pandas/core/tools/datetimes.py\u001b[0m in \u001b[0;36m_maybe_cache\u001b[0;34m(arg, format, cache, convert_listlike)\u001b[0m\n\u001b[1;32m    154\u001b[0m         \u001b[0munique_dates\u001b[0m \u001b[0;34m=\u001b[0m \u001b[0munique\u001b[0m\u001b[0;34m(\u001b[0m\u001b[0marg\u001b[0m\u001b[0;34m)\u001b[0m\u001b[0;34m\u001b[0m\u001b[0;34m\u001b[0m\u001b[0m\n\u001b[1;32m    155\u001b[0m         \u001b[0;32mif\u001b[0m \u001b[0mlen\u001b[0m\u001b[0;34m(\u001b[0m\u001b[0munique_dates\u001b[0m\u001b[0;34m)\u001b[0m \u001b[0;34m<\u001b[0m \u001b[0mlen\u001b[0m\u001b[0;34m(\u001b[0m\u001b[0marg\u001b[0m\u001b[0;34m)\u001b[0m\u001b[0;34m:\u001b[0m\u001b[0;34m\u001b[0m\u001b[0;34m\u001b[0m\u001b[0m\n\u001b[0;32m--> 156\u001b[0;31m             \u001b[0mcache_dates\u001b[0m \u001b[0;34m=\u001b[0m \u001b[0mconvert_listlike\u001b[0m\u001b[0;34m(\u001b[0m\u001b[0munique_dates\u001b[0m\u001b[0;34m,\u001b[0m \u001b[0;32mTrue\u001b[0m\u001b[0;34m,\u001b[0m \u001b[0mformat\u001b[0m\u001b[0;34m)\u001b[0m\u001b[0;34m\u001b[0m\u001b[0;34m\u001b[0m\u001b[0m\n\u001b[0m\u001b[1;32m    157\u001b[0m             \u001b[0mcache_array\u001b[0m \u001b[0;34m=\u001b[0m \u001b[0mSeries\u001b[0m\u001b[0;34m(\u001b[0m\u001b[0mcache_dates\u001b[0m\u001b[0;34m,\u001b[0m \u001b[0mindex\u001b[0m\u001b[0;34m=\u001b[0m\u001b[0munique_dates\u001b[0m\u001b[0;34m)\u001b[0m\u001b[0;34m\u001b[0m\u001b[0;34m\u001b[0m\u001b[0m\n\u001b[1;32m    158\u001b[0m     \u001b[0;32mreturn\u001b[0m \u001b[0mcache_array\u001b[0m\u001b[0;34m\u001b[0m\u001b[0;34m\u001b[0m\u001b[0m\n",
      "\u001b[0;32m//anaconda3/lib/python3.7/site-packages/pandas/core/tools/datetimes.py\u001b[0m in \u001b[0;36m_convert_listlike_datetimes\u001b[0;34m(arg, box, format, name, tz, unit, errors, infer_datetime_format, dayfirst, yearfirst, exact)\u001b[0m\n\u001b[1;32m    461\u001b[0m             \u001b[0merrors\u001b[0m\u001b[0;34m=\u001b[0m\u001b[0merrors\u001b[0m\u001b[0;34m,\u001b[0m\u001b[0;34m\u001b[0m\u001b[0;34m\u001b[0m\u001b[0m\n\u001b[1;32m    462\u001b[0m             \u001b[0mrequire_iso8601\u001b[0m\u001b[0;34m=\u001b[0m\u001b[0mrequire_iso8601\u001b[0m\u001b[0;34m,\u001b[0m\u001b[0;34m\u001b[0m\u001b[0;34m\u001b[0m\u001b[0m\n\u001b[0;32m--> 463\u001b[0;31m             \u001b[0mallow_object\u001b[0m\u001b[0;34m=\u001b[0m\u001b[0;32mTrue\u001b[0m\u001b[0;34m,\u001b[0m\u001b[0;34m\u001b[0m\u001b[0;34m\u001b[0m\u001b[0m\n\u001b[0m\u001b[1;32m    464\u001b[0m         )\n\u001b[1;32m    465\u001b[0m \u001b[0;34m\u001b[0m\u001b[0m\n",
      "\u001b[0;32m//anaconda3/lib/python3.7/site-packages/pandas/core/arrays/datetimes.py\u001b[0m in \u001b[0;36mobjects_to_datetime64ns\u001b[0;34m(data, dayfirst, yearfirst, utc, errors, require_iso8601, allow_object)\u001b[0m\n\u001b[1;32m   1982\u001b[0m             \u001b[0;32mreturn\u001b[0m \u001b[0mvalues\u001b[0m\u001b[0;34m.\u001b[0m\u001b[0mview\u001b[0m\u001b[0;34m(\u001b[0m\u001b[0;34m\"i8\"\u001b[0m\u001b[0;34m)\u001b[0m\u001b[0;34m,\u001b[0m \u001b[0mtz_parsed\u001b[0m\u001b[0;34m\u001b[0m\u001b[0;34m\u001b[0m\u001b[0m\n\u001b[1;32m   1983\u001b[0m         \u001b[0;32mexcept\u001b[0m \u001b[0;34m(\u001b[0m\u001b[0mValueError\u001b[0m\u001b[0;34m,\u001b[0m \u001b[0mTypeError\u001b[0m\u001b[0;34m)\u001b[0m\u001b[0;34m:\u001b[0m\u001b[0;34m\u001b[0m\u001b[0;34m\u001b[0m\u001b[0m\n\u001b[0;32m-> 1984\u001b[0;31m             \u001b[0;32mraise\u001b[0m \u001b[0me\u001b[0m\u001b[0;34m\u001b[0m\u001b[0;34m\u001b[0m\u001b[0m\n\u001b[0m\u001b[1;32m   1985\u001b[0m \u001b[0;34m\u001b[0m\u001b[0m\n\u001b[1;32m   1986\u001b[0m     \u001b[0;32mif\u001b[0m \u001b[0mtz_parsed\u001b[0m \u001b[0;32mis\u001b[0m \u001b[0;32mnot\u001b[0m \u001b[0;32mNone\u001b[0m\u001b[0;34m:\u001b[0m\u001b[0;34m\u001b[0m\u001b[0;34m\u001b[0m\u001b[0m\n",
      "\u001b[0;32m//anaconda3/lib/python3.7/site-packages/pandas/core/arrays/datetimes.py\u001b[0m in \u001b[0;36mobjects_to_datetime64ns\u001b[0;34m(data, dayfirst, yearfirst, utc, errors, require_iso8601, allow_object)\u001b[0m\n\u001b[1;32m   1973\u001b[0m             \u001b[0mdayfirst\u001b[0m\u001b[0;34m=\u001b[0m\u001b[0mdayfirst\u001b[0m\u001b[0;34m,\u001b[0m\u001b[0;34m\u001b[0m\u001b[0;34m\u001b[0m\u001b[0m\n\u001b[1;32m   1974\u001b[0m             \u001b[0myearfirst\u001b[0m\u001b[0;34m=\u001b[0m\u001b[0myearfirst\u001b[0m\u001b[0;34m,\u001b[0m\u001b[0;34m\u001b[0m\u001b[0;34m\u001b[0m\u001b[0m\n\u001b[0;32m-> 1975\u001b[0;31m             \u001b[0mrequire_iso8601\u001b[0m\u001b[0;34m=\u001b[0m\u001b[0mrequire_iso8601\u001b[0m\u001b[0;34m,\u001b[0m\u001b[0;34m\u001b[0m\u001b[0;34m\u001b[0m\u001b[0m\n\u001b[0m\u001b[1;32m   1976\u001b[0m         )\n\u001b[1;32m   1977\u001b[0m     \u001b[0;32mexcept\u001b[0m \u001b[0mValueError\u001b[0m \u001b[0;32mas\u001b[0m \u001b[0me\u001b[0m\u001b[0;34m:\u001b[0m\u001b[0;34m\u001b[0m\u001b[0;34m\u001b[0m\u001b[0m\n",
      "\u001b[0;32mpandas/_libs/tslib.pyx\u001b[0m in \u001b[0;36mpandas._libs.tslib.array_to_datetime\u001b[0;34m()\u001b[0m\n",
      "\u001b[0;32mpandas/_libs/tslib.pyx\u001b[0m in \u001b[0;36mpandas._libs.tslib.array_to_datetime\u001b[0;34m()\u001b[0m\n",
      "\u001b[0;32mpandas/_libs/tslib.pyx\u001b[0m in \u001b[0;36mpandas._libs.tslib.array_to_datetime_object\u001b[0;34m()\u001b[0m\n",
      "\u001b[0;32mpandas/_libs/tslib.pyx\u001b[0m in \u001b[0;36mpandas._libs.tslib.array_to_datetime_object\u001b[0;34m()\u001b[0m\n",
      "\u001b[0;32mpandas/_libs/tslibs/parsing.pyx\u001b[0m in \u001b[0;36mpandas._libs.tslibs.parsing.parse_datetime_string\u001b[0;34m()\u001b[0m\n",
      "\u001b[0;32m//anaconda3/lib/python3.7/site-packages/dateutil/parser/_parser.py\u001b[0m in \u001b[0;36mparse\u001b[0;34m(timestr, parserinfo, **kwargs)\u001b[0m\n\u001b[1;32m   1372\u001b[0m         \u001b[0;32mreturn\u001b[0m \u001b[0mparser\u001b[0m\u001b[0;34m(\u001b[0m\u001b[0mparserinfo\u001b[0m\u001b[0;34m)\u001b[0m\u001b[0;34m.\u001b[0m\u001b[0mparse\u001b[0m\u001b[0;34m(\u001b[0m\u001b[0mtimestr\u001b[0m\u001b[0;34m,\u001b[0m \u001b[0;34m**\u001b[0m\u001b[0mkwargs\u001b[0m\u001b[0;34m)\u001b[0m\u001b[0;34m\u001b[0m\u001b[0;34m\u001b[0m\u001b[0m\n\u001b[1;32m   1373\u001b[0m     \u001b[0;32melse\u001b[0m\u001b[0;34m:\u001b[0m\u001b[0;34m\u001b[0m\u001b[0;34m\u001b[0m\u001b[0m\n\u001b[0;32m-> 1374\u001b[0;31m         \u001b[0;32mreturn\u001b[0m \u001b[0mDEFAULTPARSER\u001b[0m\u001b[0;34m.\u001b[0m\u001b[0mparse\u001b[0m\u001b[0;34m(\u001b[0m\u001b[0mtimestr\u001b[0m\u001b[0;34m,\u001b[0m \u001b[0;34m**\u001b[0m\u001b[0mkwargs\u001b[0m\u001b[0;34m)\u001b[0m\u001b[0;34m\u001b[0m\u001b[0;34m\u001b[0m\u001b[0m\n\u001b[0m\u001b[1;32m   1375\u001b[0m \u001b[0;34m\u001b[0m\u001b[0m\n\u001b[1;32m   1376\u001b[0m \u001b[0;34m\u001b[0m\u001b[0m\n",
      "\u001b[0;32m//anaconda3/lib/python3.7/site-packages/dateutil/parser/_parser.py\u001b[0m in \u001b[0;36mparse\u001b[0;34m(self, timestr, default, ignoretz, tzinfos, **kwargs)\u001b[0m\n\u001b[1;32m    647\u001b[0m \u001b[0;34m\u001b[0m\u001b[0m\n\u001b[1;32m    648\u001b[0m         \u001b[0;32mif\u001b[0m \u001b[0mres\u001b[0m \u001b[0;32mis\u001b[0m \u001b[0;32mNone\u001b[0m\u001b[0;34m:\u001b[0m\u001b[0;34m\u001b[0m\u001b[0;34m\u001b[0m\u001b[0m\n\u001b[0;32m--> 649\u001b[0;31m             \u001b[0;32mraise\u001b[0m \u001b[0mParserError\u001b[0m\u001b[0;34m(\u001b[0m\u001b[0;34m\"Unknown string format: %s\"\u001b[0m\u001b[0;34m,\u001b[0m \u001b[0mtimestr\u001b[0m\u001b[0;34m)\u001b[0m\u001b[0;34m\u001b[0m\u001b[0;34m\u001b[0m\u001b[0m\n\u001b[0m\u001b[1;32m    650\u001b[0m \u001b[0;34m\u001b[0m\u001b[0m\n\u001b[1;32m    651\u001b[0m         \u001b[0;32mif\u001b[0m \u001b[0mlen\u001b[0m\u001b[0;34m(\u001b[0m\u001b[0mres\u001b[0m\u001b[0;34m)\u001b[0m \u001b[0;34m==\u001b[0m \u001b[0;36m0\u001b[0m\u001b[0;34m:\u001b[0m\u001b[0;34m\u001b[0m\u001b[0;34m\u001b[0m\u001b[0m\n",
      "\u001b[0;31mParserError\u001b[0m: Unknown string format: https://100percentfedup.com/served-roy-moore-vietnamletter-veteran-sets-record-straight-honorable-decent-respectable-patriotic-commander-soldier/"
     ]
    }
   ],
   "source": [
    "data['date'] = pd.to_datetime(data['date'])\n",
    "\n",
    "# Spoiler: \n",
    "# The error is caused by a hyperlink that is in the \"date\" field. \n",
    "# The error report does not know the value is a working hyperlink.\n",
    "# The report will print a usable hyperlink to the fake news site.\n",
    "# I wouldn't click it. It is unrelated to troubleshooting this error."
   ]
  },
  {
   "cell_type": "markdown",
   "metadata": {},
   "source": [
    "This very long error report can be overwhelming at first. Fortunately, you can ignore most of the report here. The most important part to be able to read is usually the last line or two. For our purposes, \"ParseError: Unknown string format:\" followed by a hyperlink is our error.\n",
    "\n",
    "I tend to follow a simple routine when I encounter an error report I don't understand. I start by doing a search for the error. For this one, I'll search: \"python to_datetime ParserError: Unknown string format:\". The first hit looks promising: https://stackoverflow.com/questions/34505579/pandas-to-datetime-valueerror-unknown-string-format.\n",
    "\n",
    "StackOverflow is a crowdsourced website that provides answers to coding errors. It, too, can be overwhelming at first. Not every answer is helpful, but the site can be very useful once you know the basic patterns of the site. Most questions are posed at the top of the page with an explanation, example of the code, and the error. There might be some comments to the question as well.\n",
    "\n",
    "Below that, there are answers. Site users can upvote different answers and the person who posed the question can accept it. A green checkmark below the number of votes it received indicates whether it has been accepted.\n",
    "\n",
    "![image of stack overflow accepted answer](images/stackOverflow-example.png)\n",
    "\n",
    "The respondent writes, \"I think the problem is in data - a problematic string exists.\" Looking back at our own data, we now might wonder what that strange hyperlink is and if that's our own \"problematic string.\" That is, the problem with our code is we are asking pd.to_datetime() to convert a hyperlink to a date, which just doesn't make sense and breaks.\n",
    "\n",
    "Fortunately, pd.to_datetime() offers a useful argument for dealing with these kinds of errors. By adding \"errors = 'coerce'\", we can replace any unrecognized date format with NaT, effectively providing a marker for each row that lacks a date."
   ]
  },
  {
   "cell_type": "code",
   "execution_count": 6,
   "metadata": {},
   "outputs": [
    {
     "name": "stdout",
     "output_type": "stream",
     "text": [
      "(44898, 5)\n"
     ]
    },
    {
     "data": {
      "text/html": [
       "<div>\n",
       "<style scoped>\n",
       "    .dataframe tbody tr th:only-of-type {\n",
       "        vertical-align: middle;\n",
       "    }\n",
       "\n",
       "    .dataframe tbody tr th {\n",
       "        vertical-align: top;\n",
       "    }\n",
       "\n",
       "    .dataframe thead th {\n",
       "        text-align: right;\n",
       "    }\n",
       "</style>\n",
       "<table border=\"1\" class=\"dataframe\">\n",
       "  <thead>\n",
       "    <tr style=\"text-align: right;\">\n",
       "      <th></th>\n",
       "      <th>title</th>\n",
       "      <th>text</th>\n",
       "      <th>subject</th>\n",
       "      <th>date</th>\n",
       "      <th>veracity</th>\n",
       "    </tr>\n",
       "  </thead>\n",
       "  <tbody>\n",
       "    <tr>\n",
       "      <th>0</th>\n",
       "      <td>As U.S. budget fight looms, Republicans flip t...</td>\n",
       "      <td>WASHINGTON (Reuters) - The head of a conservat...</td>\n",
       "      <td>politicsNews</td>\n",
       "      <td>2017-12-31</td>\n",
       "      <td>real</td>\n",
       "    </tr>\n",
       "    <tr>\n",
       "      <th>1</th>\n",
       "      <td>U.S. military to accept transgender recruits o...</td>\n",
       "      <td>WASHINGTON (Reuters) - Transgender people will...</td>\n",
       "      <td>politicsNews</td>\n",
       "      <td>2017-12-29</td>\n",
       "      <td>real</td>\n",
       "    </tr>\n",
       "    <tr>\n",
       "      <th>2</th>\n",
       "      <td>Senior U.S. Republican senator: 'Let Mr. Muell...</td>\n",
       "      <td>WASHINGTON (Reuters) - The special counsel inv...</td>\n",
       "      <td>politicsNews</td>\n",
       "      <td>2017-12-31</td>\n",
       "      <td>real</td>\n",
       "    </tr>\n",
       "    <tr>\n",
       "      <th>3</th>\n",
       "      <td>FBI Russia probe helped by Australian diplomat...</td>\n",
       "      <td>WASHINGTON (Reuters) - Trump campaign adviser ...</td>\n",
       "      <td>politicsNews</td>\n",
       "      <td>2017-12-30</td>\n",
       "      <td>real</td>\n",
       "    </tr>\n",
       "    <tr>\n",
       "      <th>4</th>\n",
       "      <td>Trump wants Postal Service to charge 'much mor...</td>\n",
       "      <td>SEATTLE/WASHINGTON (Reuters) - President Donal...</td>\n",
       "      <td>politicsNews</td>\n",
       "      <td>2017-12-29</td>\n",
       "      <td>real</td>\n",
       "    </tr>\n",
       "  </tbody>\n",
       "</table>\n",
       "</div>"
      ],
      "text/plain": [
       "                                               title  \\\n",
       "0  As U.S. budget fight looms, Republicans flip t...   \n",
       "1  U.S. military to accept transgender recruits o...   \n",
       "2  Senior U.S. Republican senator: 'Let Mr. Muell...   \n",
       "3  FBI Russia probe helped by Australian diplomat...   \n",
       "4  Trump wants Postal Service to charge 'much mor...   \n",
       "\n",
       "                                                text       subject       date  \\\n",
       "0  WASHINGTON (Reuters) - The head of a conservat...  politicsNews 2017-12-31   \n",
       "1  WASHINGTON (Reuters) - Transgender people will...  politicsNews 2017-12-29   \n",
       "2  WASHINGTON (Reuters) - The special counsel inv...  politicsNews 2017-12-31   \n",
       "3  WASHINGTON (Reuters) - Trump campaign adviser ...  politicsNews 2017-12-30   \n",
       "4  SEATTLE/WASHINGTON (Reuters) - President Donal...  politicsNews 2017-12-29   \n",
       "\n",
       "  veracity  \n",
       "0     real  \n",
       "1     real  \n",
       "2     real  \n",
       "3     real  \n",
       "4     real  "
      ]
     },
     "execution_count": 6,
     "metadata": {},
     "output_type": "execute_result"
    }
   ],
   "source": [
    "data['date'] = pd.to_datetime(data['date'], errors = 'coerce')\n",
    "# From documentation: \"If ‘coerce’, then invalid parsing will be set as NaT.\"\n",
    "\n",
    "print (data.shape)\n",
    "data.head()"
   ]
  },
  {
   "cell_type": "markdown",
   "metadata": {},
   "source": [
    "We can see that the date field has changed to a uniform format: Year-Date-Day, which you might see written as \n",
    "```python\n",
    "'%Y-%m-%d'\n",
    "```\n",
    "While the glimpse doesn't show us rows that failed, we can quickly search for them with .query()."
   ]
  },
  {
   "cell_type": "code",
   "execution_count": 7,
   "metadata": {
    "scrolled": true
   },
   "outputs": [
    {
     "data": {
      "text/html": [
       "<div>\n",
       "<style scoped>\n",
       "    .dataframe tbody tr th:only-of-type {\n",
       "        vertical-align: middle;\n",
       "    }\n",
       "\n",
       "    .dataframe tbody tr th {\n",
       "        vertical-align: top;\n",
       "    }\n",
       "\n",
       "    .dataframe thead th {\n",
       "        text-align: right;\n",
       "    }\n",
       "</style>\n",
       "<table border=\"1\" class=\"dataframe\">\n",
       "  <thead>\n",
       "    <tr style=\"text-align: right;\">\n",
       "      <th></th>\n",
       "      <th>title</th>\n",
       "      <th>text</th>\n",
       "      <th>subject</th>\n",
       "      <th>date</th>\n",
       "      <th>veracity</th>\n",
       "    </tr>\n",
       "  </thead>\n",
       "  <tbody>\n",
       "    <tr>\n",
       "      <th>9358</th>\n",
       "      <td>https://100percentfedup.com/served-roy-moore-v...</td>\n",
       "      <td>https://100percentfedup.com/served-roy-moore-v...</td>\n",
       "      <td>politics</td>\n",
       "      <td>NaT</td>\n",
       "      <td>fake</td>\n",
       "    </tr>\n",
       "    <tr>\n",
       "      <th>15507</th>\n",
       "      <td>https://100percentfedup.com/video-hillary-aske...</td>\n",
       "      <td>https://100percentfedup.com/video-hillary-aske...</td>\n",
       "      <td>politics</td>\n",
       "      <td>NaT</td>\n",
       "      <td>fake</td>\n",
       "    </tr>\n",
       "    <tr>\n",
       "      <th>15508</th>\n",
       "      <td>https://100percentfedup.com/12-yr-old-black-co...</td>\n",
       "      <td>https://100percentfedup.com/12-yr-old-black-co...</td>\n",
       "      <td>politics</td>\n",
       "      <td>NaT</td>\n",
       "      <td>fake</td>\n",
       "    </tr>\n",
       "    <tr>\n",
       "      <th>15839</th>\n",
       "      <td>https://fedup.wpengine.com/wp-content/uploads/...</td>\n",
       "      <td>https://fedup.wpengine.com/wp-content/uploads/...</td>\n",
       "      <td>politics</td>\n",
       "      <td>NaT</td>\n",
       "      <td>fake</td>\n",
       "    </tr>\n",
       "    <tr>\n",
       "      <th>15840</th>\n",
       "      <td>https://fedup.wpengine.com/wp-content/uploads/...</td>\n",
       "      <td>https://fedup.wpengine.com/wp-content/uploads/...</td>\n",
       "      <td>politics</td>\n",
       "      <td>NaT</td>\n",
       "      <td>fake</td>\n",
       "    </tr>\n",
       "  </tbody>\n",
       "</table>\n",
       "</div>"
      ],
      "text/plain": [
       "                                                   title  \\\n",
       "9358   https://100percentfedup.com/served-roy-moore-v...   \n",
       "15507  https://100percentfedup.com/video-hillary-aske...   \n",
       "15508  https://100percentfedup.com/12-yr-old-black-co...   \n",
       "15839  https://fedup.wpengine.com/wp-content/uploads/...   \n",
       "15840  https://fedup.wpengine.com/wp-content/uploads/...   \n",
       "\n",
       "                                                    text   subject date  \\\n",
       "9358   https://100percentfedup.com/served-roy-moore-v...  politics  NaT   \n",
       "15507  https://100percentfedup.com/video-hillary-aske...  politics  NaT   \n",
       "15508  https://100percentfedup.com/12-yr-old-black-co...  politics  NaT   \n",
       "15839  https://fedup.wpengine.com/wp-content/uploads/...  politics  NaT   \n",
       "15840  https://fedup.wpengine.com/wp-content/uploads/...  politics  NaT   \n",
       "\n",
       "      veracity  \n",
       "9358      fake  \n",
       "15507     fake  \n",
       "15508     fake  \n",
       "15839     fake  \n",
       "15840     fake  "
      ]
     },
     "execution_count": 7,
     "metadata": {},
     "output_type": "execute_result"
    }
   ],
   "source": [
    "data.query('date == \"NaT\"').head()"
   ]
  },
  {
   "cell_type": "markdown",
   "metadata": {},
   "source": [
    "These rows do not have regular dates, and to_datetime() has changed those values to NaT. We can use this new value to remove these rows from our dataset."
   ]
  },
  {
   "cell_type": "code",
   "execution_count": 8,
   "metadata": {},
   "outputs": [
    {
     "data": {
      "text/plain": [
       "(44888, 5)"
      ]
     },
     "execution_count": 8,
     "metadata": {},
     "output_type": "execute_result"
    }
   ],
   "source": [
    "data = data.query('date != \"NaT\"')\n",
    "\n",
    "data.shape"
   ]
  },
  {
   "cell_type": "markdown",
   "metadata": {},
   "source": [
    "After removing rows that had NaT has a date value, we still have plenty of data. In fact, it looks like we only lost 10 rows (44,898 - 44,888).\n",
    "\n",
    "## Saving Dataframes\n",
    "\n",
    "Once we have a dataframe that we plan to analyze, we can save it for future use. Similar to reading in csv's, pandas offers a way to save dataframes as csv's."
   ]
  },
  {
   "cell_type": "code",
   "execution_count": null,
   "metadata": {},
   "outputs": [],
   "source": [
    "data.to_csv(abs_dir + \"data/fake-and-real-news-dataset/dataframe.csv\",  \n",
    "            index=False)\n",
    "\n",
    "# I want to include the argument \"index=False\" so that the file does not save a column just for the index.\n",
    "# Notice also, I can use line breaks after commas to make the cell tidier."
   ]
  },
  {
   "cell_type": "markdown",
   "metadata": {},
   "source": [
    "## Conclusion\n",
    "\n",
    "While this notebook focuses on cleaning a problem in our dataset, it does not quite capture the experience of encountering that problem. In reality, you might not know your dataset has a problem within it. This has two key implications for text analysis\n",
    "1. Text analysis requires domain analysis. In addition to knowing the data formats and code you're working with, it's also important to understand the domain field of the corpus. The fake news dataset we're using here is meant to help you teach code, not necessarily learn something new about journalism and fake news—though that's always possible! Knowing your data and the subject of the data is crucial to good text analysis.\n",
    "\n",
    "2. An error report often prompts further data cleaning. I was not aware of the date-problem until I tried something in a later notebook and received an error. This notebook prepares the data cleaning situation for you. But, in reality, you'll likely encounter one of these error reports. While they take time to learn how to interpret, a quick internet search is often you're best place to start."
   ]
  },
  {
   "cell_type": "markdown",
   "metadata": {},
   "source": [
    "____\n",
    "\n",
    "# Coda: An Abandoned Workaround\n",
    "\n",
    "In order to keep this notebook relatively clean, I've moved my faied attempt at trouble shooting the date problem below. While I want the focus of these notebooks to be accessible, I don't want to completely erase the frustrating deadends I continue to hit. Below was my first attempt at solving this problem. Although it didn't work, the errors and internet searching eventually led me to the right method, which was far easier than what I was trying to do.\n",
    "\n",
    "### Converting Longform of Dates to Datetime\n",
    "From our glimpse of the data, we might think that our date field is uniform. Each entry has the same pattern: a month (string) day (numeric), and year (numeric). For starters, we will want to convert the date-as-string to a recognizable datetime. To do this, we'll use our new library, datetime. Datetime has a useful method for converting month names, like December, to a datetime. A datetime allows us to order information chronologically. A basic string does not provide any computational information to do that.\n",
    "\n",
    "I'm unfamiliar with converting month names to datetimes. Instead of testing this code on the entire dataset where I know there are errors, I'll first test this convertion on a smaller test set."
   ]
  },
  {
   "cell_type": "code",
   "execution_count": null,
   "metadata": {},
   "outputs": [],
   "source": [
    "# This is a new way to import a library.\n",
    "# Some libraries have many packages and codes.\n",
    "# It can often be easier to import only some of the packages than the entire library.\n",
    "from datetime import datetime"
   ]
  },
  {
   "cell_type": "code",
   "execution_count": null,
   "metadata": {},
   "outputs": [],
   "source": [
    "# We can use .sample() to chose 5 random rows.\n",
    "# Sample also provides a way to grab a fraction of a dataset: .sample(frac = .1)\n",
    "test = data.sample(n = 5)\n",
    "\n",
    "test"
   ]
  },
  {
   "cell_type": "markdown",
   "metadata": {},
   "source": [
    "With this smaller dataset, we can ensure that our code works on longform dates. This will save us the headache of trying to solve multiple data problems simultaneously.\n",
    "\n",
    "Now, we'll try to convert these dates."
   ]
  },
  {
   "cell_type": "code",
   "execution_count": null,
   "metadata": {},
   "outputs": [],
   "source": [
    "# In this cell, we want to write over the date field only.\n",
    "# We'll first try using datetime.\n",
    "test['date'] = datetime.strptime(test['date'], '%B %d, %Y')\n",
    "\n",
    "# The first argument, test['date'], is the column we want to convert.\n",
    "# The second argument, '%B %d, %Y', is the format datetime should receive in order to make the conversion.\n",
    "\n",
    "# Looking at datetime's documentation online, we can learn\n",
    "# %B == Name of the month (October, May, etc.)\n",
    "# %d == The day of the month\n",
    "# %Y == The year.\n",
    "\n",
    "test"
   ]
  },
  {
   "cell_type": "markdown",
   "metadata": {},
   "source": [
    "Our first argument is called a TypeError. At first, it looks like there's a lot of information here. Often, the best starting point is near the bottom where the error name appears.\n",
    "\n",
    "TypeError: strptime() argument 1 must be str, not Series.\n",
    "\n",
    "TypeErrors refer to errors when a function receives a data type (string, integer, etc.) that does not work with the function. In this case, strptime() expects a string (str) in the first argument position. Instead, we gave the function a Series (\"not Series\"). When I encounter an error, I often copy and paste the entire error type and explanation (TypeError: strptime()...not Series) into an internet search.\n",
    "\n",
    "The first result when I do that with this error is:\n",
    "\n",
    "```python\n",
    "train['date1'] = train['ID'].apply(lambda x: datetime.strptime(x, '%Y%m%d%H'))\n",
    "```\n",
    "\n",
    "We can recognize most of this code's structure. It similarly tries to write a column (date1) from another column. Although we're writing over the same column, the logic is the same. We can even see at the end of the line the datetime.strptime() function we tried to call.\n",
    "\n",
    "The new piece for us is the .apply() function. The .apply() is common for dataframes. It essentially says, take a function and apply it to every (\"lambda\") instance of \"x.\"\n",
    "\n",
    "We'll try this for our code. The result below should re-write each row in our \"date\" column with the datetime conversion."
   ]
  },
  {
   "cell_type": "code",
   "execution_count": null,
   "metadata": {},
   "outputs": [],
   "source": [
    "test['date'] = test['date'].apply(lambda x: datetime.strptime(x, '%B %d, %Y'))"
   ]
  },
  {
   "cell_type": "markdown",
   "metadata": {},
   "source": [
    "That's even worse! We now have a new error: ValueError. Searching that error online, I find out that strptime has encountered a value that it cannot parse.\n",
    "\n",
    "Let's look back at our date column to see if there's an anamoly."
   ]
  },
  {
   "cell_type": "code",
   "execution_count": null,
   "metadata": {},
   "outputs": [],
   "source": [
    "test['date']"
   ]
  },
  {
   "cell_type": "markdown",
   "metadata": {},
   "source": [
    "We can see that some of these values are not the same format that we told strptime() to expect (i.e., Jun 22, or Mar 21).\n",
    "\n",
    "This is a common conundrum with data cleaning: we know our data has issues scattered throughout the 40,000+ obersvations, but how do we fix them without going row-by-row? We now know that our date values are not standardized, and we cannot do a simple one-line of code to fix the problem. Fortunately, Python offers a way to work through such issues.\n",
    "\n",
    "### Try and Except\n",
    "\n",
    "Python has a way to tell your code to attempt something (try) and what to do if that code encounters an (error). Try and except will allow us to work through cleaning problems more effectively."
   ]
  },
  {
   "cell_type": "code",
   "execution_count": null,
   "metadata": {},
   "outputs": [],
   "source": [
    "# We'll start with the same line of code we tweaked from the internet.\n",
    "try:\n",
    "    test['date'] = test['date'].apply(lambda x: datetime.strptime(x, '%B %d, %Y'))\n",
    "    \n",
    "# We'll now tell Python what to do if there's an error.\n",
    "# We can also specify the error that we might encounter.\n",
    "except ValueError:\n",
    "#     We'll use \"pass,\" which simply means if there's a ValueError, do nothing and pass to the next.\n",
    "    pass\n",
    "\n",
    "test"
   ]
  }
 ],
 "metadata": {
  "kernelspec": {
   "display_name": "Python 3",
   "language": "python",
   "name": "python3"
  },
  "language_info": {
   "codemirror_mode": {
    "name": "ipython",
    "version": 3
   },
   "file_extension": ".py",
   "mimetype": "text/x-python",
   "name": "python",
   "nbconvert_exporter": "python",
   "pygments_lexer": "ipython3",
   "version": "3.7.3"
  }
 },
 "nbformat": 4,
 "nbformat_minor": 4
}
