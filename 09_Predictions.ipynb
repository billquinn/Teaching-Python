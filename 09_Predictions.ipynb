{
 "cells": [
  {
   "cell_type": "markdown",
   "metadata": {},
   "source": [
    "# Predictions & Data Modeling\n",
    "\n",
    "### Goals\n",
    "\n",
    "The goal of this notebook is to build from previous notebooks and add a step-by-step method for predicting the classifications of textual data. That is, if you have texts that are classified in some way (like real or fake news), then you can use this notebook to train a model that can predict whether a new, unseen article is real or fake. While there are more advance methods in development, text classification and prediction continues to be one of the most reliable modes of computational text analysis.\n",
    "\n",
    "As with previous (and any) kind of text analysis, it's important to be cautious with your results. Our goal with these notebooks is not to learn something about fake or real news, though it's fine to speculate. Rather, the goal is to learn how to write code that will allow you to pursue your own research questions.\n",
    "\n",
    "#### Brief Note about Libraries\n",
    "Below, you'll notice that we're importing a lot of libraries and packages. Although it looks like a lot, they all come from a few of the following libraries, which you can get with a conda installation:\n",
    "\n",
    "New Libraries in this Notebook:\n",
    "1. numpy (conda install -c anaconda numpy)\n",
    "2. scipy (conda install -c anaconda scipy)\n",
    "\n",
    "Older Libraries:\n",
    "1. re\n",
    "2. pandas\n",
    "3. seaborn\n",
    "4. matplot\n",
    "5. sklearn\n",
    "\n",
    "As I mentioned earlier in these notebooks, if you want to use computational methods to think through a research question, odds are the code is already somewhere online. This notebook is an example of finding and re-using code. The majority of the code here was copied and developed from Susan Li's explanation and tutorial, linked to below."
   ]
  },
  {
   "cell_type": "code",
   "execution_count": 1,
   "metadata": {},
   "outputs": [],
   "source": [
    "import re\n",
    "import pandas as pd\n",
    "import numpy as np\n",
    "import seaborn as sns\n",
    "import matplotlib.pyplot as plt\n",
    "\n",
    "# Import sklearn libraries for prediction/modeling.\n",
    "from scipy import stats\n",
    "\n",
    "from sklearn import metrics\n",
    "from sklearn.metrics import confusion_matrix\n",
    "\n",
    "from sklearn.model_selection import train_test_split, cross_val_score\n",
    "from sklearn.feature_selection import chi2\n",
    "from sklearn.feature_extraction.text import CountVectorizer, TfidfVectorizer, TfidfTransformer\n",
    "from sklearn.calibration import CalibratedClassifierCV\n",
    "from sklearn.preprocessing import LabelEncoder\n",
    "from sklearn.decomposition import PCA\n",
    "\n",
    "from sklearn.naive_bayes import MultinomialNB\n",
    "from sklearn.linear_model import LogisticRegression\n",
    "from sklearn.ensemble import RandomForestClassifier\n",
    "from sklearn.svm import LinearSVC\n",
    "\n",
    "import warnings\n",
    "warnings.filterwarnings('ignore')\n",
    "\n",
    "abs_dir = \"/Users/williamquinn/Desktop/DH/Python/Teaching/Python-Notebooks/\""
   ]
  },
  {
   "cell_type": "markdown",
   "metadata": {},
   "source": [
    "## Multi-class Text Classification\n",
    "\n",
    "Multi-class refers to determining the probability that a variable is one option out of a few. In this exercise, we're trying to predict the correct class from two options, real or fake news.\n",
    "\n",
    "The following cell does the important work of declaring a class (or column) to predict, in this case 'veracity.' We're creating a variable, \"class_to_predict,\" so that we can easily change one line of code rather than searching for multiple lines. That is, if we want to try predicting a different column, we can change one string variable here that we'll call a number of times rather than changing every instance that variable is needed."
   ]
  },
  {
   "cell_type": "code",
   "execution_count": 2,
   "metadata": {},
   "outputs": [
    {
     "data": {
      "text/html": [
       "<div>\n",
       "<style scoped>\n",
       "    .dataframe tbody tr th:only-of-type {\n",
       "        vertical-align: middle;\n",
       "    }\n",
       "\n",
       "    .dataframe tbody tr th {\n",
       "        vertical-align: top;\n",
       "    }\n",
       "\n",
       "    .dataframe thead th {\n",
       "        text-align: right;\n",
       "    }\n",
       "</style>\n",
       "<table border=\"1\" class=\"dataframe\">\n",
       "  <thead>\n",
       "    <tr style=\"text-align: right;\">\n",
       "      <th></th>\n",
       "      <th>title</th>\n",
       "      <th>text</th>\n",
       "      <th>subject</th>\n",
       "      <th>date</th>\n",
       "      <th>veracity</th>\n",
       "      <th>dataset</th>\n",
       "    </tr>\n",
       "  </thead>\n",
       "  <tbody>\n",
       "    <tr>\n",
       "      <th>0</th>\n",
       "      <td>As U.S. budget fight looms, Republicans flip t...</td>\n",
       "      <td>WASHINGTON (Reuters) - The head of a conservat...</td>\n",
       "      <td>politicsNews</td>\n",
       "      <td>2017-12-31</td>\n",
       "      <td>real</td>\n",
       "      <td>0</td>\n",
       "    </tr>\n",
       "    <tr>\n",
       "      <th>1</th>\n",
       "      <td>U.S. military to accept transgender recruits o...</td>\n",
       "      <td>WASHINGTON (Reuters) - Transgender people will...</td>\n",
       "      <td>politicsNews</td>\n",
       "      <td>2017-12-29</td>\n",
       "      <td>real</td>\n",
       "      <td>0</td>\n",
       "    </tr>\n",
       "    <tr>\n",
       "      <th>2</th>\n",
       "      <td>Senior U.S. Republican senator: 'Let Mr. Muell...</td>\n",
       "      <td>WASHINGTON (Reuters) - The special counsel inv...</td>\n",
       "      <td>politicsNews</td>\n",
       "      <td>2017-12-31</td>\n",
       "      <td>real</td>\n",
       "      <td>0</td>\n",
       "    </tr>\n",
       "    <tr>\n",
       "      <th>3</th>\n",
       "      <td>FBI Russia probe helped by Australian diplomat...</td>\n",
       "      <td>WASHINGTON (Reuters) - Trump campaign adviser ...</td>\n",
       "      <td>politicsNews</td>\n",
       "      <td>2017-12-30</td>\n",
       "      <td>real</td>\n",
       "      <td>0</td>\n",
       "    </tr>\n",
       "    <tr>\n",
       "      <th>4</th>\n",
       "      <td>Trump wants Postal Service to charge 'much mor...</td>\n",
       "      <td>SEATTLE/WASHINGTON (Reuters) - President Donal...</td>\n",
       "      <td>politicsNews</td>\n",
       "      <td>2017-12-29</td>\n",
       "      <td>real</td>\n",
       "      <td>0</td>\n",
       "    </tr>\n",
       "  </tbody>\n",
       "</table>\n",
       "</div>"
      ],
      "text/plain": [
       "                                               title  \\\n",
       "0  As U.S. budget fight looms, Republicans flip t...   \n",
       "1  U.S. military to accept transgender recruits o...   \n",
       "2  Senior U.S. Republican senator: 'Let Mr. Muell...   \n",
       "3  FBI Russia probe helped by Australian diplomat...   \n",
       "4  Trump wants Postal Service to charge 'much mor...   \n",
       "\n",
       "                                                text       subject  \\\n",
       "0  WASHINGTON (Reuters) - The head of a conservat...  politicsNews   \n",
       "1  WASHINGTON (Reuters) - Transgender people will...  politicsNews   \n",
       "2  WASHINGTON (Reuters) - The special counsel inv...  politicsNews   \n",
       "3  WASHINGTON (Reuters) - Trump campaign adviser ...  politicsNews   \n",
       "4  SEATTLE/WASHINGTON (Reuters) - President Donal...  politicsNews   \n",
       "\n",
       "         date veracity  dataset  \n",
       "0  2017-12-31     real        0  \n",
       "1  2017-12-29     real        0  \n",
       "2  2017-12-31     real        0  \n",
       "3  2017-12-30     real        0  \n",
       "4  2017-12-29     real        0  "
      ]
     },
     "execution_count": 2,
     "metadata": {},
     "output_type": "execute_result"
    }
   ],
   "source": [
    "data = pd.read_csv(abs_dir + \"data/dataframe.csv\",\n",
    "                   sep = \",\")\n",
    "\n",
    "# Declare class to predict.\n",
    "class_to_predict = \"veracity\"\n",
    "\n",
    "# Create labels.\n",
    "labels = data[str(class_to_predict)]\n",
    "\n",
    "data.head()"
   ]
  },
  {
   "cell_type": "markdown",
   "metadata": {},
   "source": [
    "The following code is nearly identical to the last notebook. I've consolidated the code into a single cell here to streamline a little."
   ]
  },
  {
   "cell_type": "code",
   "execution_count": 3,
   "metadata": {},
   "outputs": [
    {
     "name": "stdout",
     "output_type": "stream",
     "text": [
      "CPU times: user 1min 37s, sys: 3.92 s, total: 1min 41s\n",
      "Wall time: 1min 44s\n"
     ]
    },
    {
     "data": {
      "text/plain": [
       "(57887, 202)"
      ]
     },
     "execution_count": 3,
     "metadata": {},
     "output_type": "execute_result"
    }
   ],
   "source": [
    "%%time\n",
    "\n",
    "# Clean up text field.\n",
    "data['text'] = data['text'] \\\n",
    "    .replace(r\"[A-Z/]+ \\(\\w+\\) - \", \"\", regex=True) \\\n",
    "    .replace(r'\\s+', ' ', regex=True) \\\n",
    "    .str.lower() \\\n",
    "    .astype(str)\n",
    "\n",
    "# Instantiate a vectorizer.\n",
    "tfidf = TfidfVectorizer(sublinear_tf=True, \n",
    "                        min_df=0.1, \n",
    "                        max_df=0.9, \n",
    "                        stop_words='english',\n",
    "                        norm='l2', \n",
    "                        encoding='latin-1', \n",
    "                        ngram_range=(1, 2))\n",
    "\n",
    "features = tfidf.fit_transform(data['text']).toarray()\n",
    "\n",
    "# Show data size.\n",
    "features.shape"
   ]
  },
  {
   "cell_type": "markdown",
   "metadata": {},
   "source": [
    "## Model Testing\n",
    "\n",
    "https://towardsdatascience.com/why-and-how-to-cross-validate-a-model-d6424b45261f\n",
    "\n",
    "Now that we have transformed our text to numeric representations we can begin modeling our data.\n",
    "\n",
    "For our purposes, data modeling refers to \n",
    "Explanation/descriptions of data modeling...\n",
    "\n",
    "There are different classifiers to chose from and they each vary in their effectiveness. This cell helps determine which model we'll want to pick. After evaluating the cross validation of each model, the cell prints a visualization and brief accuracy report.\n",
    "\n",
    "Key Terms:\n",
    "* Cross Validation: Cross validation is a method to evaluate a model.\n",
    "\n",
    "Many algorithms split a dataset into a training portion and a testing portion. An algorithm will try to learn what features distinguish one class from another within the training portion. The model, then, is meant to represent the classes it found within the dataset. With the model now trained, the testing portion will provide a sense of how accurate the model is. The model guesses the class of each observation within the testing set, making guesses on the significant features it has found. The testing set hides the correct answer from the model until it has made all its guesses and then can measure how accurate the model was.\n",
    "\n",
    "The \"accuracy\" of a model is a reflection of the dataset itself. In our dataset, we will get a sense of how accurate these models can determine whether an article is fake or real. But, if we're being precise, we would need to add: we get a sense of how accurate these models are at guessing observations already within the dataset. Observations from another dataset might change the \"accuracy\" of the model."
   ]
  },
  {
   "cell_type": "code",
   "execution_count": 4,
   "metadata": {},
   "outputs": [
    {
     "data": {
      "image/png": "[encoded data removed]",
      "text/plain": [
       "<Figure size 432x288 with 1 Axes>"
      ]
     },
     "metadata": {
      "needs_background": "light"
     },
     "output_type": "display_data"
    },
    {
     "name": "stdout",
     "output_type": "stream",
     "text": [
      "CPU times: user 1min 27s, sys: 2.15 s, total: 1min 29s\n",
      "Wall time: 1min 19s\n"
     ]
    },
    {
     "data": {
      "text/plain": [
       "model_name\n",
       "CalibratedClassifierCV    0.944339\n",
       "LinearSVC                 0.944322\n",
       "LogisticRegression        0.943424\n",
       "MultinomialNB             0.902776\n",
       "RandomForestClassifier    0.832915\n",
       "Name: accuracy, dtype: float64"
      ]
     },
     "execution_count": 4,
     "metadata": {},
     "output_type": "execute_result"
    }
   ],
   "source": [
    "%%time\n",
    "\n",
    "# Declare a list of models to evaluate. \n",
    "# Some models have their own arguments.\n",
    "models = [\n",
    "    RandomForestClassifier(n_estimators=200, max_depth=3, random_state=0),\n",
    "    LinearSVC(),\n",
    "    MultinomialNB(),\n",
    "    LogisticRegression(random_state=0),\n",
    "    CalibratedClassifierCV(base_estimator = LinearSVC())\n",
    "]\n",
    "\n",
    "# Set up cross validation.\n",
    "CV = 5\n",
    "\n",
    "cv_df = pd.DataFrame(index=range(CV * len(models)))\n",
    "\n",
    "# Measure accuracy of models and create dataframe of results.\n",
    "entries = []\n",
    "\n",
    "# Iterate through list of models, measuring accuracy of each.\n",
    "for model in models:\n",
    "    model_name = model.__class__.__name__\n",
    "    accuracies = cross_val_score(model, features, labels, scoring='accuracy', cv=CV)\n",
    "    \n",
    "    for fold_idx, accuracy in enumerate(accuracies):\n",
    "        entries.append((model_name, fold_idx, accuracy))\n",
    "\n",
    "# Create a dataframe of accuracy results.\n",
    "cv_df = pd.DataFrame(entries, columns=['model_name', 'fold_idx', 'accuracy'])\n",
    "\n",
    "# Visualize model accuracy.\n",
    "sns.boxplot(x='model_name', y='accuracy', data=cv_df)\n",
    "sns.stripplot(x='model_name', y='accuracy', data=cv_df, \n",
    "              size=6, jitter=True, edgecolor=\"gray\", linewidth=2)\n",
    "\n",
    "# Rotate axis labels.\n",
    "plt.xticks(rotation=30)\n",
    "plt.show()\n",
    "\n",
    "# Print accuracy report.\n",
    "cv_df.groupby('model_name').accuracy.mean()"
   ]
  },
  {
   "cell_type": "markdown",
   "metadata": {},
   "source": [
    "### Model Evaluation\n",
    "\n",
    "It looks like the <b>CalibratedClassifierCV</b> has the highest accuracy and would be preferable than the <b>RandomForestClassifier</b>. But, the models above behave differently. Their different functionalities might constrain how you access them and/or try to transform the data within. For example, if you use <b>LinearSVC()</b> below, you'll run into an AttributeError ('LinearSVC' object has no attribute 'predict_proba') in the subsequent cell. If the accuracy score is negligible, you might choose a model that you're more familiar with. Additionally, if you were doing scholarly research, you might choose a model for more specialized reasons."
   ]
  },
  {
   "cell_type": "code",
   "execution_count": 7,
   "metadata": {},
   "outputs": [
    {
     "name": "stdout",
     "output_type": "stream",
     "text": [
      "              precision    recall  f1-score   support\n",
      "\n",
      "        real       0.93      0.95      0.94      7046\n",
      "        fake       0.97      0.96      0.96     12057\n",
      "\n",
      "    accuracy                           0.96     19103\n",
      "   macro avg       0.95      0.95      0.95     19103\n",
      "weighted avg       0.96      0.96      0.96     19103\n",
      "\n",
      "Cross Validation Accuracy :  95.35 %\n",
      " \n",
      " (57887, 2)\n",
      "CPU times: user 4.01 s, sys: 526 ms, total: 4.54 s\n",
      "Wall time: 27.8 s\n"
     ]
    }
   ],
   "source": [
    "%%time\n",
    "\n",
    "# Declare classifier (clf). Calibrated requires argument.\n",
    "# If you want to use another model, simply change the following line to: clf = the model you'd like to use\n",
    "clf = CalibratedClassifierCV(base_estimator = LinearSVC())\n",
    "\n",
    "X_train, X_test, y_train, y_test, indices_train, indices_test = train_test_split(features, \n",
    "                                                                                 labels, \n",
    "                                                                                 data.index, \n",
    "                                                                                 test_size=0.33, \n",
    "                                                                                 random_state=0)\n",
    "clf.fit(X_train, y_train)\n",
    "y_pred = clf.predict(X_test)\n",
    "\n",
    "\n",
    "# Print accuracy report.\n",
    "print(metrics.classification_report(y_test, \n",
    "                                    y_pred,\n",
    "                                    labels = labels.unique()))\n",
    "\n",
    "# Print cross validation report.\n",
    "cross_val_svc = cross_val_score(estimator = clf, \n",
    "                                X = X_train, y = y_train, cv = 10, n_jobs = -1)\n",
    "\n",
    "print(\"Cross Validation Accuracy : \", round(cross_val_svc.mean() * 100 , 2), \"%\\n\",\n",
    "      '\\n', clf.predict_proba(features).shape)"
   ]
  },
  {
   "cell_type": "markdown",
   "metadata": {},
   "source": [
    "The report printed above indicates that are model is incredibly accurate. But, this report provides a holistic and zoomed-out view. What if we want a \n",
    "\n",
    "## Probabilities of Each Predicted Class\n",
    "\n",
    "While above gives us an overview of our model (and the accuracy of predicting fake and real news), we can't learn much from this report. Merging the prediction results with metadata will allows us see a breakdown of every article and to examine trends over time."
   ]
  },
  {
   "cell_type": "code",
   "execution_count": 11,
   "metadata": {},
   "outputs": [
    {
     "name": "stdout",
     "output_type": "stream",
     "text": [
      "(57887, 2)\n",
      "CPU times: user 451 ms, sys: 46.7 ms, total: 497 ms\n",
      "Wall time: 336 ms\n"
     ]
    },
    {
     "data": {
      "text/html": [
       "<div>\n",
       "<style scoped>\n",
       "    .dataframe tbody tr th:only-of-type {\n",
       "        vertical-align: middle;\n",
       "    }\n",
       "\n",
       "    .dataframe tbody tr th {\n",
       "        vertical-align: top;\n",
       "    }\n",
       "\n",
       "    .dataframe thead th {\n",
       "        text-align: right;\n",
       "    }\n",
       "</style>\n",
       "<table border=\"1\" class=\"dataframe\">\n",
       "  <thead>\n",
       "    <tr style=\"text-align: right;\">\n",
       "      <th></th>\n",
       "      <th>index</th>\n",
       "      <th>title</th>\n",
       "      <th>veracity</th>\n",
       "      <th>date</th>\n",
       "      <th>predicted_veracity</th>\n",
       "      <th>prediction</th>\n",
       "    </tr>\n",
       "  </thead>\n",
       "  <tbody>\n",
       "    <tr>\n",
       "      <th>0</th>\n",
       "      <td>0</td>\n",
       "      <td>As U.S. budget fight looms, Republicans flip t...</td>\n",
       "      <td>real</td>\n",
       "      <td>2017-12-31</td>\n",
       "      <td>real</td>\n",
       "      <td>99.656096</td>\n",
       "    </tr>\n",
       "    <tr>\n",
       "      <th>1</th>\n",
       "      <td>1</td>\n",
       "      <td>U.S. military to accept transgender recruits o...</td>\n",
       "      <td>real</td>\n",
       "      <td>2017-12-29</td>\n",
       "      <td>real</td>\n",
       "      <td>95.773286</td>\n",
       "    </tr>\n",
       "    <tr>\n",
       "      <th>2</th>\n",
       "      <td>2</td>\n",
       "      <td>Senior U.S. Republican senator: 'Let Mr. Muell...</td>\n",
       "      <td>real</td>\n",
       "      <td>2017-12-31</td>\n",
       "      <td>real</td>\n",
       "      <td>18.568696</td>\n",
       "    </tr>\n",
       "    <tr>\n",
       "      <th>3</th>\n",
       "      <td>3</td>\n",
       "      <td>FBI Russia probe helped by Australian diplomat...</td>\n",
       "      <td>real</td>\n",
       "      <td>2017-12-30</td>\n",
       "      <td>real</td>\n",
       "      <td>82.502171</td>\n",
       "    </tr>\n",
       "    <tr>\n",
       "      <th>4</th>\n",
       "      <td>4</td>\n",
       "      <td>Trump wants Postal Service to charge 'much mor...</td>\n",
       "      <td>real</td>\n",
       "      <td>2017-12-29</td>\n",
       "      <td>real</td>\n",
       "      <td>80.667455</td>\n",
       "    </tr>\n",
       "  </tbody>\n",
       "</table>\n",
       "</div>"
      ],
      "text/plain": [
       "   index                                              title veracity  \\\n",
       "0      0  As U.S. budget fight looms, Republicans flip t...     real   \n",
       "1      1  U.S. military to accept transgender recruits o...     real   \n",
       "2      2  Senior U.S. Republican senator: 'Let Mr. Muell...     real   \n",
       "3      3  FBI Russia probe helped by Australian diplomat...     real   \n",
       "4      4  Trump wants Postal Service to charge 'much mor...     real   \n",
       "\n",
       "         date predicted_veracity  prediction  \n",
       "0  2017-12-31               real   99.656096  \n",
       "1  2017-12-29               real   95.773286  \n",
       "2  2017-12-31               real   18.568696  \n",
       "3  2017-12-30               real   82.502171  \n",
       "4  2017-12-29               real   80.667455  "
      ]
     },
     "execution_count": 11,
     "metadata": {},
     "output_type": "execute_result"
    }
   ],
   "source": [
    "%%time\n",
    "\n",
    "# Print size of class probabilities.\n",
    "# Calls back features variable (tf-idf results).\n",
    "print (clf.predict_proba(features).shape)\n",
    "\n",
    "# Return predicted class probabilities of original dataframe.\n",
    "predictions = pd.DataFrame((clf.predict_proba(features)*100),\n",
    "                           index = data.index,\n",
    "#                            I have set columns manually because of a bug I wasn't able to resolve...\n",
    "#                            Normally, this can be set using labels.unique()\n",
    "                           columns = ['fake', 'real']) \\\n",
    "    .reset_index()\n",
    "\n",
    "# Merge prediction results with metadata.\n",
    "results = pd.merge(data, predictions, \n",
    "                   how = \"inner\", left_index = True, right_index = True)\n",
    "\n",
    "# results = results.drop([\"text\", \"class_id\"], axis = 1)\n",
    "results = results.drop([\"text\"], axis = 1) \n",
    "\n",
    "results = pd.melt(results,\n",
    "                  id_vars = ['title', 'veracity', 'date'],\n",
    "                  value_vars = labels.unique(),\n",
    "                  var_name = 'predicted_veracity',\n",
    "                  value_name = 'prediction') \\\n",
    "    .reset_index()\n",
    "\n",
    "results.head()"
   ]
  },
  {
   "cell_type": "markdown",
   "metadata": {},
   "source": [
    "Because we have nearly 60,000 documents over a few years, we'll want to find the average and standard deviation of predictions."
   ]
  },
  {
   "cell_type": "code",
   "execution_count": 31,
   "metadata": {},
   "outputs": [
    {
     "data": {
      "text/html": [
       "<div>\n",
       "<style scoped>\n",
       "    .dataframe tbody tr th:only-of-type {\n",
       "        vertical-align: middle;\n",
       "    }\n",
       "\n",
       "    .dataframe tbody tr th {\n",
       "        vertical-align: top;\n",
       "    }\n",
       "\n",
       "    .dataframe thead th {\n",
       "        text-align: right;\n",
       "    }\n",
       "</style>\n",
       "<table border=\"1\" class=\"dataframe\">\n",
       "  <thead>\n",
       "    <tr style=\"text-align: right;\">\n",
       "      <th></th>\n",
       "      <th>year</th>\n",
       "      <th>predicted_veracity</th>\n",
       "      <th>prediction</th>\n",
       "    </tr>\n",
       "  </thead>\n",
       "  <tbody>\n",
       "    <tr>\n",
       "      <th>0</th>\n",
       "      <td>2015</td>\n",
       "      <td>fake</td>\n",
       "      <td>89.512751</td>\n",
       "    </tr>\n",
       "    <tr>\n",
       "      <th>1</th>\n",
       "      <td>2016</td>\n",
       "      <td>fake</td>\n",
       "      <td>95.164698</td>\n",
       "    </tr>\n",
       "    <tr>\n",
       "      <th>2</th>\n",
       "      <td>2016</td>\n",
       "      <td>real</td>\n",
       "      <td>86.288479</td>\n",
       "    </tr>\n",
       "    <tr>\n",
       "      <th>3</th>\n",
       "      <td>2017</td>\n",
       "      <td>fake</td>\n",
       "      <td>93.605737</td>\n",
       "    </tr>\n",
       "    <tr>\n",
       "      <th>4</th>\n",
       "      <td>2017</td>\n",
       "      <td>real</td>\n",
       "      <td>91.654498</td>\n",
       "    </tr>\n",
       "  </tbody>\n",
       "</table>\n",
       "</div>"
      ],
      "text/plain": [
       "   year predicted_veracity  prediction\n",
       "0  2015               fake   89.512751\n",
       "1  2016               fake   95.164698\n",
       "2  2016               real   86.288479\n",
       "3  2017               fake   93.605737\n",
       "4  2017               real   91.654498"
      ]
     },
     "execution_count": 31,
     "metadata": {},
     "output_type": "execute_result"
    }
   ],
   "source": [
    "results \\\n",
    "    .groupby(['veracity', 'predicted_veracity'])['prediction'].mean()\n",
    "\n",
    "results['date'] = pd.to_datetime(results['date'])\n",
    "results['year'] = results['date'].dt.year\n",
    "\n",
    "averages = results \\\n",
    "    .query('veracity == predicted_veracity') \\\n",
    "    .groupby(['year', 'predicted_veracity'])['prediction'] \\\n",
    "    .mean() \\\n",
    "    .reset_index()\n",
    "\n",
    "averages.head()"
   ]
  },
  {
   "cell_type": "code",
   "execution_count": 32,
   "metadata": {},
   "outputs": [
    {
     "data": {
      "text/plain": [
       "<seaborn.axisgrid.FacetGrid at 0x1a45a979b0>"
      ]
     },
     "execution_count": 32,
     "metadata": {},
     "output_type": "execute_result"
    },
    {
     "data": {
      "image/png": "[encoded data removed]",
      "text/plain": [
       "<Figure size 461x360 with 1 Axes>"
      ]
     },
     "metadata": {
      "needs_background": "light"
     },
     "output_type": "display_data"
    }
   ],
   "source": [
    "ax = sns.lmplot(data = averages,\n",
    "                x = 'year', y = 'prediction', hue = 'predicted_veracity')\n",
    "\n",
    "ax.set_xticklabels(rotation=45)"
   ]
  },
  {
   "cell_type": "markdown",
   "metadata": {},
   "source": [
    "## Conclusion\n",
    "\n",
    "\n",
    "\n",
    "#### Works Cited\n",
    "\n",
    "* Li, Susan. \"[Multi-Class Text Classification with Scikit-Learn](https://towardsdatascience.com/multi-class-text-classification-with-scikit-learn-12f1e60e0a9f).\" <i>towards data science</i>, February 19, 2018. Accessed: February 9, 2020.\n",
    "\n",
    "* ____. \"[Machine Learning with Python](https://github.com/susanli2016/Machine-Learning-with-Python/blob/master/Consumer_complaints.ipynb).\" GitHub. Accessed: February 9, 2020.\n",
    "\n",
    "* Saxena, Manoveg. \"[predicting_probabilities_with_linearSVC.ipynb](https://github.com/manoveg/ML_with_python/blob/master/predicting_probabilities_with_linearSVC.ipynb).\" GitHub. Accessed: February 9, 2020.\n",
    "\n",
    "* Z., Zahash. \"[A Simple Guide to creating Predictive Models in Python, Part-2a](https://medium.com/datadriveninvestor/a-simple-guide-to-creating-predictive-models-in-python-part-2a-aa86ece98f86).\" <i>Medium</i>, November 22, 2018. Accessed: February 9, 2020."
   ]
  },
  {
   "cell_type": "code",
   "execution_count": null,
   "metadata": {},
   "outputs": [],
   "source": []
  }
 ],
 "metadata": {
  "kernelspec": {
   "display_name": "Python 3",
   "language": "python",
   "name": "python3"
  },
  "language_info": {
   "codemirror_mode": {
    "name": "ipython",
    "version": 3
   },
   "file_extension": ".py",
   "mimetype": "text/x-python",
   "name": "python",
   "nbconvert_exporter": "python",
   "pygments_lexer": "ipython3",
   "version": "3.7.3"
  }
 },
 "nbformat": 4,
 "nbformat_minor": 4
}
